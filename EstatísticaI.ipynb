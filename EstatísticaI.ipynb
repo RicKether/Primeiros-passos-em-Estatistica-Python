{
 "cells": [
  {
   "cell_type": "code",
   "execution_count": null,
   "id": "b86745f6-60df-4b43-8c51-96860464545b",
   "metadata": {},
   "outputs": [],
   "source": [
    "# ESTATÍSTICA I\n",
    "\n",
    "# Bibliografia:\n",
    "    \n",
    "#     1. Statistics Workbook for Dummies\n",
    "\n",
    "\n",
    "# Portais:\n",
    "    \n",
    "#     1. www.portalaction.com.br "
   ]
  },
  {
   "cell_type": "code",
   "execution_count": null,
   "id": "3d8d5cbb-b0f2-44af-bbe3-4328bc1d3f65",
   "metadata": {},
   "outputs": [],
   "source": [
    "# AMOSTRAGEM SIMPLES p1\n",
    "\n",
    "# tipo de amostragem que seleciona os elementos de uma população de forma aleatória. \n",
    "# Todos os elementos da população têm a mesma probabilidade de serem selecionados"
   ]
  },
  {
   "cell_type": "code",
   "execution_count": 1,
   "id": "05bf4a68-370b-4bed-ad29-0eb83eb34f39",
   "metadata": {},
   "outputs": [],
   "source": [
    "# Importação das bibliotecas\n",
    "\n",
    "import pandas as pd\n",
    "import numpy as np"
   ]
  },
  {
   "cell_type": "code",
   "execution_count": 2,
   "id": "ba8cf8c9-eec8-4368-b354-6077a52cb6a4",
   "metadata": {},
   "outputs": [
    {
     "data": {
      "text/html": [
       "<div>\n",
       "<style scoped>\n",
       "    .dataframe tbody tr th:only-of-type {\n",
       "        vertical-align: middle;\n",
       "    }\n",
       "\n",
       "    .dataframe tbody tr th {\n",
       "        vertical-align: top;\n",
       "    }\n",
       "\n",
       "    .dataframe thead th {\n",
       "        text-align: right;\n",
       "    }\n",
       "</style>\n",
       "<table border=\"1\" class=\"dataframe\">\n",
       "  <thead>\n",
       "    <tr style=\"text-align: right;\">\n",
       "      <th></th>\n",
       "      <th>sepal length</th>\n",
       "      <th>sepal width</th>\n",
       "      <th>petal length</th>\n",
       "      <th>petal width</th>\n",
       "      <th>class</th>\n",
       "    </tr>\n",
       "  </thead>\n",
       "  <tbody>\n",
       "    <tr>\n",
       "      <th>0</th>\n",
       "      <td>5.1</td>\n",
       "      <td>3.5</td>\n",
       "      <td>1.4</td>\n",
       "      <td>0.2</td>\n",
       "      <td>Iris-setosa</td>\n",
       "    </tr>\n",
       "    <tr>\n",
       "      <th>1</th>\n",
       "      <td>4.9</td>\n",
       "      <td>3.0</td>\n",
       "      <td>1.4</td>\n",
       "      <td>0.2</td>\n",
       "      <td>Iris-setosa</td>\n",
       "    </tr>\n",
       "    <tr>\n",
       "      <th>2</th>\n",
       "      <td>4.7</td>\n",
       "      <td>3.2</td>\n",
       "      <td>1.3</td>\n",
       "      <td>0.2</td>\n",
       "      <td>Iris-setosa</td>\n",
       "    </tr>\n",
       "    <tr>\n",
       "      <th>3</th>\n",
       "      <td>4.6</td>\n",
       "      <td>3.1</td>\n",
       "      <td>1.5</td>\n",
       "      <td>0.2</td>\n",
       "      <td>Iris-setosa</td>\n",
       "    </tr>\n",
       "    <tr>\n",
       "      <th>4</th>\n",
       "      <td>5.0</td>\n",
       "      <td>3.6</td>\n",
       "      <td>1.4</td>\n",
       "      <td>0.2</td>\n",
       "      <td>Iris-setosa</td>\n",
       "    </tr>\n",
       "    <tr>\n",
       "      <th>...</th>\n",
       "      <td>...</td>\n",
       "      <td>...</td>\n",
       "      <td>...</td>\n",
       "      <td>...</td>\n",
       "      <td>...</td>\n",
       "    </tr>\n",
       "    <tr>\n",
       "      <th>145</th>\n",
       "      <td>6.7</td>\n",
       "      <td>3.0</td>\n",
       "      <td>5.2</td>\n",
       "      <td>2.3</td>\n",
       "      <td>Iris-virginica</td>\n",
       "    </tr>\n",
       "    <tr>\n",
       "      <th>146</th>\n",
       "      <td>6.3</td>\n",
       "      <td>2.5</td>\n",
       "      <td>5.0</td>\n",
       "      <td>1.9</td>\n",
       "      <td>Iris-virginica</td>\n",
       "    </tr>\n",
       "    <tr>\n",
       "      <th>147</th>\n",
       "      <td>6.5</td>\n",
       "      <td>3.0</td>\n",
       "      <td>5.2</td>\n",
       "      <td>2.0</td>\n",
       "      <td>Iris-virginica</td>\n",
       "    </tr>\n",
       "    <tr>\n",
       "      <th>148</th>\n",
       "      <td>6.2</td>\n",
       "      <td>3.4</td>\n",
       "      <td>5.4</td>\n",
       "      <td>2.3</td>\n",
       "      <td>Iris-virginica</td>\n",
       "    </tr>\n",
       "    <tr>\n",
       "      <th>149</th>\n",
       "      <td>5.9</td>\n",
       "      <td>3.0</td>\n",
       "      <td>5.1</td>\n",
       "      <td>1.8</td>\n",
       "      <td>Iris-virginica</td>\n",
       "    </tr>\n",
       "  </tbody>\n",
       "</table>\n",
       "<p>150 rows × 5 columns</p>\n",
       "</div>"
      ],
      "text/plain": [
       "     sepal length  sepal width  petal length  petal width           class\n",
       "0             5.1          3.5           1.4          0.2     Iris-setosa\n",
       "1             4.9          3.0           1.4          0.2     Iris-setosa\n",
       "2             4.7          3.2           1.3          0.2     Iris-setosa\n",
       "3             4.6          3.1           1.5          0.2     Iris-setosa\n",
       "4             5.0          3.6           1.4          0.2     Iris-setosa\n",
       "..            ...          ...           ...          ...             ...\n",
       "145           6.7          3.0           5.2          2.3  Iris-virginica\n",
       "146           6.3          2.5           5.0          1.9  Iris-virginica\n",
       "147           6.5          3.0           5.2          2.0  Iris-virginica\n",
       "148           6.2          3.4           5.4          2.3  Iris-virginica\n",
       "149           5.9          3.0           5.1          1.8  Iris-virginica\n",
       "\n",
       "[150 rows x 5 columns]"
      ]
     },
     "execution_count": 2,
     "metadata": {},
     "output_type": "execute_result"
    }
   ],
   "source": [
    "# Carregamento da base de dados\n",
    "\n",
    "\n",
    "base = pd.read_csv('iris.csv')\n",
    "base"
   ]
  },
  {
   "cell_type": "code",
   "execution_count": 3,
   "id": "f2c07123-f18c-4d26-ae30-5f28d77d948e",
   "metadata": {},
   "outputs": [
    {
     "data": {
      "text/plain": [
       "(150, 5)"
      ]
     },
     "execution_count": 3,
     "metadata": {},
     "output_type": "execute_result"
    }
   ],
   "source": [
    "# Verificar quantas linhas e colunas existem na base de dados\n",
    "\n",
    "\n",
    "base.shape"
   ]
  },
  {
   "cell_type": "code",
   "execution_count": 4,
   "id": "0e822970-854d-47eb-bf5c-3c196bf73e3f",
   "metadata": {},
   "outputs": [
    {
     "data": {
      "text/plain": [
       "150"
      ]
     },
     "execution_count": 4,
     "metadata": {},
     "output_type": "execute_result"
    }
   ],
   "source": [
    "# Mudança da semente aleatória randômica para manter os resultados em várias execuções\n",
    "# 150 amostras, de 0 a 1, com reposição, probabilidades equivalentes\n",
    "# Verificar tamanho da amostra \n",
    "\n",
    "\n",
    "np.random.seed(2345)\n",
    "\n",
    "amostra = np.random.choice(a = [0, 1], \n",
    "                           size = 150, \n",
    "                           replace = True,\n",
    "                           p = [0.3, 0.7])\n",
    "\n",
    "len(amostra)\n",
    "\n",
    "\n",
    "# A função **np.random.choice** gera uma amostra aleatória a partir de um array 1-D ou de um intervalo de inteiros. Os parâmetros da função são:\n",
    "\n",
    "# **a**: basicamente define em formato de vetor, que elementos a sequencia gerará, ou seja, \n",
    "# será uma amostra de x elementos, sendo que y% será de valor \"0\", e z% de valor \"1\".\n",
    "\n",
    "# **size**: o tamanho ou a forma da amostra. Se for um inteiro, a amostra terá esse número de elementos. \n",
    "# Se for uma tupla, a amostra terá a forma especificada pela tupla. O padrão é None, nesse caso um único valor será retornado.\n",
    "\n",
    "# **replace**: um booleano que indica se a amostra é com ou sem reposição. \n",
    "# O padrão é True, o que significa que um mesmo valor de 'a' pode ser selecionado várias vezes.\n",
    "\n",
    "# **p**: um array 1-D que define as probabilidades associadas a cada elemento de a. \n",
    "# Se não for dado, a amostra assume uma distribuição uniforme sobre todos os elementos de a.\n",
    "\n",
    "\n",
    "# Obs: reandom.choice -> Essa é uma forma de fazer quando existe diferença na probabilidade,\n",
    "# de modo que no ex. haverá 30% de achar 0 em 150 escolhas, e 70% de encontrar 1.\n",
    "# Quando não houver a distinção e se desejar selecionar x números numa lista y, deve-se usar random.sample()"
   ]
  },
  {
   "cell_type": "code",
   "execution_count": null,
   "id": "3ae941a5-78e2-411f-befc-0380e07e8438",
   "metadata": {},
   "outputs": [],
   "source": [
    "# OBS: Uso do sample()\n",
    "\n",
    "# lista = [1,2,3,4,5,6,7,8,9]\n",
    "\n",
    "# amostra = np.random.sample(lista, 5)\n",
    "\n",
    "# Esta função recebe dois argumentos: a lista de elementos da população e o tamanho da amostra. \n",
    "# ...Por exemplo, o seguinte código seleciona uma amostra aleatória de 5 elementos da lista lista"
   ]
  },
  {
   "cell_type": "code",
   "execution_count": 5,
   "id": "5e15e9ed-1226-4437-a517-ff1c41192cf2",
   "metadata": {},
   "outputs": [
    {
     "data": {
      "text/plain": [
       "44"
      ]
     },
     "execution_count": 5,
     "metadata": {},
     "output_type": "execute_result"
    }
   ],
   "source": [
    "# Verificar tamanho da amostra para valores iguais a 0 \n",
    "\n",
    "\n",
    "len(amostra[amostra == 0])"
   ]
  },
  {
   "cell_type": "code",
   "execution_count": 6,
   "id": "57a354d1-8e84-42a8-9340-843dccceff6f",
   "metadata": {},
   "outputs": [
    {
     "data": {
      "text/plain": [
       "106"
      ]
     },
     "execution_count": 6,
     "metadata": {},
     "output_type": "execute_result"
    }
   ],
   "source": [
    "# Verificar tamanho da amostra para valores iguais a 1\n",
    "\n",
    "\n",
    "len(amostra[amostra == 1])"
   ]
  },
  {
   "cell_type": "code",
   "execution_count": 10,
   "id": "c2823e6b-f96a-4765-94f0-60762b466318",
   "metadata": {},
   "outputs": [
    {
     "data": {
      "text/plain": [
       "(44, 5)"
      ]
     },
     "execution_count": 10,
     "metadata": {},
     "output_type": "execute_result"
    }
   ],
   "source": [
    "# Atribuir valor das amostras iguais a 0, relacionando ao banco de dados, a uma variável e checar as dimenções \n",
    "\n",
    "base_final1 = base.loc[amostra == 0]\n",
    "base_final1.shape"
   ]
  },
  {
   "cell_type": "code",
   "execution_count": 8,
   "id": "b90e97b5-4717-43a2-a4cc-e0c85740e5df",
   "metadata": {},
   "outputs": [
    {
     "data": {
      "text/plain": [
       "(106, 5)"
      ]
     },
     "execution_count": 8,
     "metadata": {},
     "output_type": "execute_result"
    }
   ],
   "source": [
    "# Atribuir valor das amostras iguais a 1 a uma variável e checar as dimenções \n",
    "\n",
    "\n",
    "base_final2 = base.loc[amostra == 1]\n",
    "base_final2.shape"
   ]
  },
  {
   "cell_type": "code",
   "execution_count": 9,
   "id": "0d34a78e-a446-49ac-8cb2-1003325722b6",
   "metadata": {},
   "outputs": [],
   "source": [
    "# AMOSTRAGEM SISTEMÁTICA p1\n",
    "\n",
    "# A **amostragem sistemática** é um método de pesquisa que determina como selecionar membros de uma população que será estudada. \n",
    "# Consiste em escolher um elemento inicial de forma aleatória e depois selecionar os demais elementos a intervalos fixos, \n",
    "# até completar o tamanho da amostra desejado. A amostragem sistemática é um tipo de amostragem probabilística, \n",
    "# onde cada membro da população tem uma chance conhecida e não nula de ser escolhido. A amostragem sistemática é fácil, \n",
    "# simples e barata de aplicar, mas requer que a população esteja ordenada de forma aleatória ou relacionada à variável de interesse. "
   ]
  },
  {
   "cell_type": "code",
   "execution_count": 2,
   "id": "c603ca00-08e3-400a-9d20-cc9c24b516d9",
   "metadata": {},
   "outputs": [],
   "source": [
    "# Importação da biblioteca ceil de math \n",
    "# Obs:(ceil: retorna o valor inteiro de uma divisão, cujo resultado é fracionado)\n",
    "\n",
    "from math import ceil"
   ]
  },
  {
   "cell_type": "code",
   "execution_count": 4,
   "id": "8f9fa0d6-60d8-4c92-b731-dc6de83467d7",
   "metadata": {},
   "outputs": [
    {
     "name": "stdout",
     "output_type": "stream",
     "text": [
      "10\n"
     ]
    }
   ],
   "source": [
    "# Criação das variáveis para representar a população, a amostra e o valor de k\n",
    "\n",
    "\n",
    "populacao = 150\n",
    "amostra = 15\n",
    "k = ceil(populacao / amostra)\n",
    "print(k)\n",
    "\n",
    "\n",
    "# **ceil()** da biblioteca math serve para arredondar um número para cima.\n",
    "# ou seja, retorna o menor número inteiro maior ou igual a um dado número. \n",
    "# Por exemplo, math.ceil(3.2) retorna 4, e math.ceil(-2.7) retorna -2. \n",
    "# A função ceil() é útil para arredondar valores para cima, como em problemas de programação linear ou de otimização."
   ]
  },
  {
   "cell_type": "code",
   "execution_count": 1,
   "id": "41307286-ae2e-4098-84f0-fc05ee133571",
   "metadata": {},
   "outputs": [
    {
     "name": "stdout",
     "output_type": "stream",
     "text": [
      "r ->  [8]\n",
      "ac ->  8\n"
     ]
    }
   ],
   "source": [
    "# OBS:\n",
    "\n",
    "# import numpy as np\n",
    "\n",
    "# r = np.random.randint(low = 1, high = 11, size = 1)\n",
    "# ac = r[0]\n",
    "\n",
    "# print('r -> ', r)\n",
    "# print('ac -> ', ac)\n",
    "\n",
    "# Obs: A biblioteca np.random.randint() retorna uma matriz que pode ter uma ou mais dimensões,\n",
    "# Para utilização dos valores distribuídos dessa forma, se faz necessária a atribuição acima:\n",
    "    \n",
    "#     ac = r[0]\n",
    "\n",
    "# Dessa forma o termo \"ac\" será um 'inteiro', e não se comportará como um elemento de uma matriz."
   ]
  },
  {
   "cell_type": "code",
   "execution_count": 29,
   "id": "fa339f4e-fb1a-4ae6-8a32-6c37c1ef6ab7",
   "metadata": {},
   "outputs": [
    {
     "name": "stdout",
     "output_type": "stream",
     "text": [
      "[2]\n"
     ]
    }
   ],
   "source": [
    "# Definição do valor randômico para inicializar a amostra\n",
    "# Obs: o primeiro valor da amostra precisa ser aleatório\n",
    "# Mas deve estar entre 1 e k + 1, no caso 11\n",
    "\n",
    "\n",
    "r = np.random.randint(low = 1, high = k + 1, size = 1)\n",
    "print(r)"
   ]
  },
  {
   "cell_type": "code",
   "execution_count": null,
   "id": "840ef436-c908-47a1-bc7b-91db7b36ed2e",
   "metadata": {},
   "outputs": [],
   "source": [
    "# Cria-se um - for - para somar os próximos valores\n",
    "# baseado no primeiro valor r, que foi definido acima  \n",
    "\n",
    "\n",
    "acumulador = r[0]\n",
    "sorteados = []\n",
    "\n",
    "for i in range(amostra):\n",
    "    # print(acumulador)\n",
    "    sorteados.append(acumulador)\n",
    "    acumulador += k\n",
    "    \n",
    "print(sorteados)\n",
    "\n",
    "# r[0] -> o objeto \"r\" é criado como matriz de numpy, sendo assim, ele não é um inteiro isolado ...\n",
    "# ... ele é na verdade um vetor. A operaçã: r[0], implica no primeiro elemento da matriz numpy...\n",
    "# esse primeiro elemento da matriz \"r\" é atribuído ao acumulador"
   ]
  },
  {
   "cell_type": "code",
   "execution_count": 1,
   "id": "c1011d1c-1fe7-4bd1-b704-91c80ac08502",
   "metadata": {},
   "outputs": [],
   "source": [
    "# AMOSTRAGEM EXTRATIFICADA p2\n",
    "\n",
    "# método de amostragem probabilística no qual a população é dividida em estratos com base em variáveis conhecidas e, em seguida,...\n",
    "# ...uma amostra aleatória é extraída de cada estrato. Isso garante que todos os estratos da população sejam representados na amostra,...\n",
    "# mesmo que os estratos tenham tamanhos diferentes."
   ]
  },
  {
   "cell_type": "code",
   "execution_count": 1,
   "id": "9a03d6ce-b223-4231-9c53-72bf7014bb56",
   "metadata": {},
   "outputs": [],
   "source": [
    "# Importação das bibliotecas\n",
    "\n",
    "import pandas as pd\n",
    "from sklearn.model_selection import train_test_split\n",
    "\n",
    "# Obs: A biblioteca from sklearn.model_selection import train_test_split é usada para dividir os dados em conjuntos ...\n",
    "# ... de treinamento e teste. Isso é feito para garantir que o modelo não seja sobrecarregado pelos dados ...\n",
    "# ... de treinamento e para avaliar o desempenho do modelo com dados que ele não viu antes.\n",
    "\n",
    "# A função train_test_split() aceita vários argumentos, incluindo:\n",
    "\n",
    "#     X: Os dados de entrada.\n",
    "#     y: Os rótulos dos dados.\n",
    "#     test_size: A proporção dos dados que deve ser reservada para o conjunto de teste.\n",
    "#     random_state: Uma semente aleatória para garantir que os dados sejam divididos de forma consistente.\n",
    "\n",
    "# A função train_test_split() retorna dois objetos: um conjunto de treinamento e um conjunto de teste. \n",
    "# O conjunto de treinamento é usado para treinar o modelo e o conjunto de teste é usado para avaliar o desempenho do modelo\n",
    "\n",
    "# Obs: train_test_split é uma função da sklearn, naturalmente utilizada no campo da machine learning..\n",
    "# ... A forma utilizada é uma improvisação para realizar a amostragem extratificada."
   ]
  },
  {
   "cell_type": "code",
   "execution_count": 2,
   "id": "090cf128-2d25-41da-acd0-145c6e4bc981",
   "metadata": {},
   "outputs": [
    {
     "data": {
      "text/html": [
       "<div>\n",
       "<style scoped>\n",
       "    .dataframe tbody tr th:only-of-type {\n",
       "        vertical-align: middle;\n",
       "    }\n",
       "\n",
       "    .dataframe tbody tr th {\n",
       "        vertical-align: top;\n",
       "    }\n",
       "\n",
       "    .dataframe thead th {\n",
       "        text-align: right;\n",
       "    }\n",
       "</style>\n",
       "<table border=\"1\" class=\"dataframe\">\n",
       "  <thead>\n",
       "    <tr style=\"text-align: right;\">\n",
       "      <th></th>\n",
       "      <th>sepal length</th>\n",
       "      <th>sepal width</th>\n",
       "      <th>petal length</th>\n",
       "      <th>petal width</th>\n",
       "      <th>class</th>\n",
       "    </tr>\n",
       "  </thead>\n",
       "  <tbody>\n",
       "    <tr>\n",
       "      <th>0</th>\n",
       "      <td>5.1</td>\n",
       "      <td>3.5</td>\n",
       "      <td>1.4</td>\n",
       "      <td>0.2</td>\n",
       "      <td>Iris-setosa</td>\n",
       "    </tr>\n",
       "    <tr>\n",
       "      <th>1</th>\n",
       "      <td>4.9</td>\n",
       "      <td>3.0</td>\n",
       "      <td>1.4</td>\n",
       "      <td>0.2</td>\n",
       "      <td>Iris-setosa</td>\n",
       "    </tr>\n",
       "    <tr>\n",
       "      <th>2</th>\n",
       "      <td>4.7</td>\n",
       "      <td>3.2</td>\n",
       "      <td>1.3</td>\n",
       "      <td>0.2</td>\n",
       "      <td>Iris-setosa</td>\n",
       "    </tr>\n",
       "    <tr>\n",
       "      <th>3</th>\n",
       "      <td>4.6</td>\n",
       "      <td>3.1</td>\n",
       "      <td>1.5</td>\n",
       "      <td>0.2</td>\n",
       "      <td>Iris-setosa</td>\n",
       "    </tr>\n",
       "    <tr>\n",
       "      <th>4</th>\n",
       "      <td>5.0</td>\n",
       "      <td>3.6</td>\n",
       "      <td>1.4</td>\n",
       "      <td>0.2</td>\n",
       "      <td>Iris-setosa</td>\n",
       "    </tr>\n",
       "  </tbody>\n",
       "</table>\n",
       "</div>"
      ],
      "text/plain": [
       "   sepal length  sepal width  petal length  petal width        class\n",
       "0           5.1          3.5           1.4          0.2  Iris-setosa\n",
       "1           4.9          3.0           1.4          0.2  Iris-setosa\n",
       "2           4.7          3.2           1.3          0.2  Iris-setosa\n",
       "3           4.6          3.1           1.5          0.2  Iris-setosa\n",
       "4           5.0          3.6           1.4          0.2  Iris-setosa"
      ]
     },
     "execution_count": 2,
     "metadata": {},
     "output_type": "execute_result"
    }
   ],
   "source": [
    "# Carregamento da base de dados\n",
    "\n",
    "\n",
    "iris = pd.read_csv('iris.csv')\n",
    "iris.head()"
   ]
  },
  {
   "cell_type": "code",
   "execution_count": 6,
   "id": "ebabcc59-b63f-47be-959e-d77a15f7dbe6",
   "metadata": {},
   "outputs": [
    {
     "data": {
      "text/plain": [
       "Iris-setosa        50\n",
       "Iris-versicolor    50\n",
       "Iris-virginica     50\n",
       "Name: class, dtype: int64"
      ]
     },
     "execution_count": 6,
     "metadata": {},
     "output_type": "execute_result"
    }
   ],
   "source": [
    "# contagem de quantos registros existem por classe\n",
    "\n",
    "\n",
    "iris['class'].value_counts()\n",
    "\n",
    "\n",
    "# Obs: O resultado da operação **value_counts()**, é muito similar à função: **iris.groupby(['iris']).size()**, pode experimentar, \n",
    "# apenas alguns detalhes na saída de dados são alterados, mas não são significativos, ambos tem a função de contar quantos existem de cada elemento contido na coluna"
   ]
  },
  {
   "cell_type": "code",
   "execution_count": 4,
   "id": "0b8fa63c-66b7-4da2-b969-324088322fdd",
   "metadata": {},
   "outputs": [
    {
     "data": {
      "text/plain": [
       "Iris-versicolor    25\n",
       "Iris-virginica     25\n",
       "Iris-setosa        25\n",
       "Name: class, dtype: int64"
      ]
     },
     "execution_count": 4,
     "metadata": {},
     "output_type": "execute_result"
    }
   ],
   "source": [
    "# Extrair 50% dos dados, referentes a cada classe\n",
    "\n",
    "\n",
    "X, _, y, _ = train_test_split(iris.iloc[:, 0:4], iris.iloc[:, 4],\n",
    "                             test_size = 0.5, stratify = iris.iloc[:, 4])\n",
    "\n",
    "y.value_counts()\n",
    "\n",
    "\n",
    "# iris.iloc[:, 0:4] -> Buscamos somente os atributos previsores, ou seja, os dados sobre pétala e sétala da planta\n",
    "# iris.iloc[:, 4] -> Buscamos somente a classe, que é a espécie da planta (setosa, virgínia, ou versicolor)\n",
    "# test_size -> selecionamos 50% da base de dados, que serão copiados para as variáveis X e Y. Essa função ...\n",
    "# ... retorna 4 valores, porém, vamos usar somente os 50% da base de dados e por isso ...\n",
    "# ... colocamos \"_\" para os outros valores.\n",
    "# stratify -> para retornar a amostra baseada na classe\n",
    "\n",
    "# **stratify** -> O parâmetro stratify serve para dividir os dados de forma estratificada, ou seja, \n",
    "# mantendo a mesma proporção de valores da variável que é usada como rótulo. "
   ]
  },
  {
   "cell_type": "code",
   "execution_count": null,
   "id": "ac42b9d6-5588-4bb6-85c1-6517efdf64fd",
   "metadata": {},
   "outputs": [],
   "source": [
    "y"
   ]
  },
  {
   "cell_type": "code",
   "execution_count": 11,
   "id": "2a924e05-bdf5-4e94-bc93-985b388973d1",
   "metadata": {},
   "outputs": [
    {
     "data": {
      "text/html": [
       "<div>\n",
       "<style scoped>\n",
       "    .dataframe tbody tr th:only-of-type {\n",
       "        vertical-align: middle;\n",
       "    }\n",
       "\n",
       "    .dataframe tbody tr th {\n",
       "        vertical-align: top;\n",
       "    }\n",
       "\n",
       "    .dataframe thead th {\n",
       "        text-align: right;\n",
       "    }\n",
       "</style>\n",
       "<table border=\"1\" class=\"dataframe\">\n",
       "  <thead>\n",
       "    <tr style=\"text-align: right;\">\n",
       "      <th></th>\n",
       "      <th>Unnamed: 0</th>\n",
       "      <th>education</th>\n",
       "      <th>age</th>\n",
       "      <th>parity</th>\n",
       "      <th>induced</th>\n",
       "      <th>case</th>\n",
       "      <th>spontaneous</th>\n",
       "      <th>stratum</th>\n",
       "      <th>pooled.stratum</th>\n",
       "    </tr>\n",
       "  </thead>\n",
       "  <tbody>\n",
       "    <tr>\n",
       "      <th>0</th>\n",
       "      <td>1</td>\n",
       "      <td>0-5yrs</td>\n",
       "      <td>26</td>\n",
       "      <td>6</td>\n",
       "      <td>1</td>\n",
       "      <td>1</td>\n",
       "      <td>2</td>\n",
       "      <td>1</td>\n",
       "      <td>3</td>\n",
       "    </tr>\n",
       "    <tr>\n",
       "      <th>1</th>\n",
       "      <td>2</td>\n",
       "      <td>0-5yrs</td>\n",
       "      <td>42</td>\n",
       "      <td>1</td>\n",
       "      <td>1</td>\n",
       "      <td>1</td>\n",
       "      <td>0</td>\n",
       "      <td>2</td>\n",
       "      <td>1</td>\n",
       "    </tr>\n",
       "    <tr>\n",
       "      <th>2</th>\n",
       "      <td>3</td>\n",
       "      <td>0-5yrs</td>\n",
       "      <td>39</td>\n",
       "      <td>6</td>\n",
       "      <td>2</td>\n",
       "      <td>1</td>\n",
       "      <td>0</td>\n",
       "      <td>3</td>\n",
       "      <td>4</td>\n",
       "    </tr>\n",
       "    <tr>\n",
       "      <th>3</th>\n",
       "      <td>4</td>\n",
       "      <td>0-5yrs</td>\n",
       "      <td>34</td>\n",
       "      <td>4</td>\n",
       "      <td>2</td>\n",
       "      <td>1</td>\n",
       "      <td>0</td>\n",
       "      <td>4</td>\n",
       "      <td>2</td>\n",
       "    </tr>\n",
       "    <tr>\n",
       "      <th>4</th>\n",
       "      <td>5</td>\n",
       "      <td>6-11yrs</td>\n",
       "      <td>35</td>\n",
       "      <td>3</td>\n",
       "      <td>1</td>\n",
       "      <td>1</td>\n",
       "      <td>1</td>\n",
       "      <td>5</td>\n",
       "      <td>32</td>\n",
       "    </tr>\n",
       "    <tr>\n",
       "      <th>...</th>\n",
       "      <td>...</td>\n",
       "      <td>...</td>\n",
       "      <td>...</td>\n",
       "      <td>...</td>\n",
       "      <td>...</td>\n",
       "      <td>...</td>\n",
       "      <td>...</td>\n",
       "      <td>...</td>\n",
       "      <td>...</td>\n",
       "    </tr>\n",
       "    <tr>\n",
       "      <th>243</th>\n",
       "      <td>244</td>\n",
       "      <td>12+ yrs</td>\n",
       "      <td>31</td>\n",
       "      <td>1</td>\n",
       "      <td>0</td>\n",
       "      <td>0</td>\n",
       "      <td>1</td>\n",
       "      <td>79</td>\n",
       "      <td>45</td>\n",
       "    </tr>\n",
       "    <tr>\n",
       "      <th>244</th>\n",
       "      <td>245</td>\n",
       "      <td>12+ yrs</td>\n",
       "      <td>34</td>\n",
       "      <td>1</td>\n",
       "      <td>0</td>\n",
       "      <td>0</td>\n",
       "      <td>0</td>\n",
       "      <td>80</td>\n",
       "      <td>47</td>\n",
       "    </tr>\n",
       "    <tr>\n",
       "      <th>245</th>\n",
       "      <td>246</td>\n",
       "      <td>12+ yrs</td>\n",
       "      <td>35</td>\n",
       "      <td>2</td>\n",
       "      <td>2</td>\n",
       "      <td>0</td>\n",
       "      <td>0</td>\n",
       "      <td>81</td>\n",
       "      <td>54</td>\n",
       "    </tr>\n",
       "    <tr>\n",
       "      <th>246</th>\n",
       "      <td>247</td>\n",
       "      <td>12+ yrs</td>\n",
       "      <td>29</td>\n",
       "      <td>1</td>\n",
       "      <td>0</td>\n",
       "      <td>0</td>\n",
       "      <td>1</td>\n",
       "      <td>82</td>\n",
       "      <td>43</td>\n",
       "    </tr>\n",
       "    <tr>\n",
       "      <th>247</th>\n",
       "      <td>248</td>\n",
       "      <td>12+ yrs</td>\n",
       "      <td>23</td>\n",
       "      <td>1</td>\n",
       "      <td>0</td>\n",
       "      <td>0</td>\n",
       "      <td>1</td>\n",
       "      <td>83</td>\n",
       "      <td>40</td>\n",
       "    </tr>\n",
       "  </tbody>\n",
       "</table>\n",
       "<p>248 rows × 9 columns</p>\n",
       "</div>"
      ],
      "text/plain": [
       "     Unnamed: 0 education  age  parity  induced  case  spontaneous  stratum  \\\n",
       "0             1    0-5yrs   26       6        1     1            2        1   \n",
       "1             2    0-5yrs   42       1        1     1            0        2   \n",
       "2             3    0-5yrs   39       6        2     1            0        3   \n",
       "3             4    0-5yrs   34       4        2     1            0        4   \n",
       "4             5   6-11yrs   35       3        1     1            1        5   \n",
       "..          ...       ...  ...     ...      ...   ...          ...      ...   \n",
       "243         244   12+ yrs   31       1        0     0            1       79   \n",
       "244         245   12+ yrs   34       1        0     0            0       80   \n",
       "245         246   12+ yrs   35       2        2     0            0       81   \n",
       "246         247   12+ yrs   29       1        0     0            1       82   \n",
       "247         248   12+ yrs   23       1        0     0            1       83   \n",
       "\n",
       "     pooled.stratum  \n",
       "0                 3  \n",
       "1                 1  \n",
       "2                 4  \n",
       "3                 2  \n",
       "4                32  \n",
       "..              ...  \n",
       "243              45  \n",
       "244              47  \n",
       "245              54  \n",
       "246              43  \n",
       "247              40  \n",
       "\n",
       "[248 rows x 9 columns]"
      ]
     },
     "execution_count": 11,
     "metadata": {},
     "output_type": "execute_result"
    }
   ],
   "source": [
    "# Carregamento da base de dados - \"infert\"\n",
    "\n",
    "\n",
    "infert = pd.read_csv('infert.csv')\n",
    "infert"
   ]
  },
  {
   "cell_type": "code",
   "execution_count": 12,
   "id": "fd52ef4e-6373-4e6a-a688-6b2332176e9d",
   "metadata": {},
   "outputs": [
    {
     "data": {
      "text/plain": [
       "6-11yrs    120\n",
       "12+ yrs    116\n",
       "0-5yrs      12\n",
       "Name: education, dtype: int64"
      ]
     },
     "execution_count": 12,
     "metadata": {},
     "output_type": "execute_result"
    }
   ],
   "source": [
    "# Contagem extratificada da coluna education\n",
    "\n",
    "\n",
    "infert['education'].value_counts()"
   ]
  },
  {
   "cell_type": "code",
   "execution_count": 17,
   "id": "6238db0b-cbf4-4cc2-a5c5-b4fd8f820516",
   "metadata": {},
   "outputs": [
    {
     "data": {
      "text/plain": [
       "6-11yrs    48\n",
       "12+ yrs    46\n",
       "0-5yrs      5\n",
       "Name: education, dtype: int64"
      ]
     },
     "execution_count": 17,
     "metadata": {},
     "output_type": "execute_result"
    }
   ],
   "source": [
    "# Criando uma amostra com somente 40% dos registros \n",
    "# (A definição é invertida, daí usar 0.6 para 40%)\n",
    "\n",
    "\n",
    "X1, _, y1, _ = train_test_split(infert.iloc[:, 2:9], infert.iloc[:, 1],\n",
    "                    test_size = 0.6, stratify = infert.iloc[:, 1])\n",
    "\n",
    "y1.value_counts()"
   ]
  },
  {
   "cell_type": "code",
   "execution_count": null,
   "id": "13bd52dc-6a54-4faf-8c82-2396a5bb5ed4",
   "metadata": {},
   "outputs": [],
   "source": [
    "# Outra forma de ser feito:\n",
    "\n",
    "# import random\n",
    "\n",
    "# def extrair_amostra_extratificada(lista, proporcao):\n",
    "#     # Crie um dicionário para armazenar os elementos em cada categoria\n",
    "#     categorias = {}\n",
    "    \n",
    "#     # Divida os elementos em categorias com base em algum critério\n",
    "#     for elemento in lista:\n",
    "#         # Substitua a condição abaixo com o critério desejado para classificar os elementos\n",
    "#         categoria = \"categoria1\" if elemento % 2 == 0 else \"categoria2\"\n",
    "        \n",
    "#         if categoria not in categorias:\n",
    "#             categorias[categoria] = []\n",
    "        \n",
    "#         categorias[categoria].append(elemento)\n",
    "    \n",
    "#     amostra = []\n",
    "    \n",
    "#     # Extraia uma proporção da amostra de cada categoria\n",
    "#     for categoria, elementos in categorias.items():\n",
    "#         tamanho_amostra_categoria = int(len(elementos) * proporcao)\n",
    "#         amostra_categoria = random.sample(elementos, tamanho_amostra_categoria)\n",
    "#         amostra.extend(amostra_categoria)\n",
    "    \n",
    "#     return amostra\n",
    "\n",
    "# # Exemplo de uso\n",
    "# lista = [1, 2, 3, 4, 5, 6, 7, 8, 9, 10]\n",
    "# proporcao_amostra = 0.3\n",
    "\n",
    "# amostra_extratificada = extrair_amostra_extratificada(lista, proporcao_amostra)\n",
    "# print(amostra_extratificada)\n"
   ]
  },
  {
   "cell_type": "code",
   "execution_count": 1,
   "id": "d1b2651a-c623-4bf0-be9c-f145214b27bc",
   "metadata": {},
   "outputs": [],
   "source": [
    "# ESTATÍSTICA I p3\n",
    "# MEDIDAS DE CENTRALIDADE"
   ]
  },
  {
   "cell_type": "code",
   "execution_count": 2,
   "id": "aba5546a-4f92-4d7c-8826-3eead886f218",
   "metadata": {},
   "outputs": [],
   "source": [
    "# Importação das bibliotecacs scipy para gerar estatísticas mais detalhadas\n",
    "\n",
    "import numpy as np\n",
    "from scipy import stats"
   ]
  },
  {
   "cell_type": "code",
   "execution_count": 4,
   "id": "e5f06706-a968-4660-bc53-54ab38b6123f",
   "metadata": {},
   "outputs": [
    {
     "name": "stdout",
     "output_type": "stream",
     "text": [
      "jogadores ->  [40000, 18000, 12000, 250000, 30000, 140000, 300000, 40000, 800000]\n",
      "----------\n",
      "média ->  181111.11111111112\n",
      "----------\n",
      "mediana ->  40000.0\n"
     ]
    }
   ],
   "source": [
    "# Criação da variável com os dados dos jogadores, média e mediana\n",
    "\n",
    "\n",
    "jogadores = [40000, 18000, 12000, 250000, 30000, 140000, 300000, 40000, 800000]\n",
    "print('jogadores -> ', jogadores)\n",
    "print('----------')\n",
    "\n",
    "media = np.mean(jogadores)\n",
    "print('média -> ', media)\n",
    "print('----------')\n",
    "\n",
    "mediana = np.median(jogadores)\n",
    "print('mediana -> ', mediana)"
   ]
  },
  {
   "cell_type": "code",
   "execution_count": 6,
   "id": "1a7e7f91-2a88-4c03-9bfd-59a6c3cfd869",
   "metadata": {},
   "outputs": [
    {
     "name": "stdout",
     "output_type": "stream",
     "text": [
      "valores: menor, quartis e maior:\n",
      "[ 12000.  30000.  40000. 250000. 800000.]\n"
     ]
    }
   ],
   "source": [
    "# Função para encontrar os quartis:\n",
    "\n",
    "\n",
    "quartis = np.quantile(jogadores, [0, 0.25, 0.5, 0.75, 1])\n",
    "print('valores: menor, quartis e maior:')\n",
    "print(quartis)"
   ]
  },
  {
   "cell_type": "code",
   "execution_count": 7,
   "id": "01efc460-d260-4800-aee7-c95468ca1fa2",
   "metadata": {},
   "outputs": [
    {
     "name": "stdout",
     "output_type": "stream",
     "text": [
      "Desvio padrão ->  240706.5730739143\n"
     ]
    }
   ],
   "source": [
    "# Visualização do desvio padrão\n",
    "\n",
    "\n",
    "desv = np.std(jogadores)\n",
    "print('Desvio padrão -> ', desv)"
   ]
  },
  {
   "cell_type": "code",
   "execution_count": 11,
   "id": "d9b54923-87ce-4570-8a21-e02275218913",
   "metadata": {},
   "outputs": [
    {
     "name": "stdout",
     "output_type": "stream",
     "text": [
      "Descrição completa dos jogadores: \n",
      "DescribeResult(nobs=9, minmax=(12000, 800000), mean=181111.11111111112, variance=65182111111.11111, skewness=1.758635899846188, kurtosis=1.9572075427527729)\n"
     ]
    }
   ],
   "source": [
    "# Visualização de estatísticas mais detalhadas \n",
    "# Uso da biblioteca stats\n",
    "\n",
    "\n",
    "descricao = stats.describe(jogadores)\n",
    "print('Descrição completa dos jogadores: ')\n",
    "print(descricao)"
   ]
  },
  {
   "cell_type": "code",
   "execution_count": 12,
   "id": "aa1a0dc8-79ac-43be-8437-98af3d01b463",
   "metadata": {},
   "outputs": [],
   "source": [
    "# DISTRIBUIÇÃO NORMAL p3"
   ]
  },
  {
   "cell_type": "code",
   "execution_count": 12,
   "id": "17b74bf8-23e3-4b02-a4d2-74d1c8758521",
   "metadata": {},
   "outputs": [],
   "source": [
    "# Importação da biblioteca scipy - norm\n",
    "\n",
    "from scipy.stats import norm"
   ]
  },
  {
   "cell_type": "code",
   "execution_count": 14,
   "id": "8f328ff6-ae64-43a6-8137-e0118923caac",
   "metadata": {},
   "outputs": [
    {
     "data": {
      "text/plain": [
       "0.15865525393145707"
      ]
     },
     "execution_count": 14,
     "metadata": {},
     "output_type": "execute_result"
    }
   ],
   "source": [
    "# Caso -> Objetos numa cesta ...\n",
    "# ... A média é 8, e o desvio padrão é 2\n",
    "# Indicar: Probabilidade de tirar um objeto cujo peso é menor que 6 kg\n",
    "\n",
    "\n",
    "norm.cdf(6, 8, 2)\n",
    "\n",
    "\n",
    "# Obs: A função norm.cdf(x, μ, σ) calcula a função de distribuição cumulativa (CDF) da distribuição normal com média μ e desvio padrão σ.\n",
    "\n",
    "# Na operação norm.cdf(6, 8, 2), os valores dos parâmetros são:\n",
    "\n",
    "# x = 6: o ponto de probabilidade no qual queremos calcular a CDF.\n",
    "# μ = 8: a média da distribuição normal.\n",
    "# σ = 2: o desvio padrão da distribuição normal.\n",
    "\n",
    "# Portanto, a operação norm.cdf(6, 8, 2) calcula a probabilidade de que uma variável aleatória normal com média 8 ...\n",
    "# ...e desvio padrão 2 seja menor ou igual a 6."
   ]
  },
  {
   "cell_type": "code",
   "execution_count": 15,
   "id": "e781cb88-c364-4c36-b1f9-25f3e6c981e1",
   "metadata": {},
   "outputs": [
    {
     "data": {
      "text/plain": [
       "0.8413447460685429"
      ]
     },
     "execution_count": 15,
     "metadata": {},
     "output_type": "execute_result"
    }
   ],
   "source": [
    "# Probabilidade de tirar objeto que o peso é maior que 6 kg\n",
    "\n",
    "\n",
    "norm.sf(6, 8, 2)\n",
    "\n",
    "# Obs: Seria pssível obter o mesmo resultado da função invertida, subtraindo o resultado de 1:\n",
    "# 1 - norm.cdf(6, 8, 2)"
   ]
  },
  {
   "cell_type": "code",
   "execution_count": 16,
   "id": "6439db2e-e214-4722-9b45-a9cb6c98bd94",
   "metadata": {},
   "outputs": [
    {
     "data": {
      "text/plain": [
       "0.31731050786291415"
      ]
     },
     "execution_count": 16,
     "metadata": {},
     "output_type": "execute_result"
    }
   ],
   "source": [
    "# Qual a probabilidade de tirar um objeto que o peso é menor que 6kg ...\n",
    "# ... Ou maior que 10kg \n",
    "\n",
    "\n",
    "norm.cdf(6, 8, 2) + norm.sf(10, 8, 2)"
   ]
  },
  {
   "cell_type": "code",
   "execution_count": 4,
   "id": "ac861cfd-b532-47b1-86c3-f8f0fec854fa",
   "metadata": {},
   "outputs": [
    {
     "data": {
      "text/plain": [
       "0.3413447460685429"
      ]
     },
     "execution_count": 4,
     "metadata": {},
     "output_type": "execute_result"
    }
   ],
   "source": [
    "# Probabilidade de tirar um objeto que pesa menos que 10 kg ...\n",
    "# ... E mais de 8Kg\n",
    "# Obs: Há várias maneiras de chegar a resposta, seguem algumas:\n",
    "\n",
    "\n",
    "norm.cdf(10, 8, 2) - norm.cdf(8, 8, 2)\n",
    "\n",
    "# OBS: Há várias maneiras de fazer: \n",
    "    \n",
    "# norm.sf(8, 8, 2) - norm.sf(10, 8, 2)\n",
    "\n",
    "# norm.cdf(8, 8, 2) - norm.sf(10, 8, 2)\n",
    "# norm.cdf(8, 8, 2) - norm.cdf(6, 8, 2)"
   ]
  },
  {
   "cell_type": "code",
   "execution_count": 6,
   "id": "47df584b-8cd5-4d9d-9b80-7d0cac7e436e",
   "metadata": {},
   "outputs": [],
   "source": [
    "# TESTES DE NORMALIDADE p4\n",
    "# Importação de dados\n",
    "\n",
    "import pandas as pd\n",
    "import matplotlib.pyplot as plt\n",
    "from scipy.stats import norm, skewnorm\n",
    "from scipy import stats"
   ]
  },
  {
   "cell_type": "code",
   "execution_count": 3,
   "id": "d3866a6f-32a9-4f54-8a3f-5d315f3bb3ee",
   "metadata": {},
   "outputs": [
    {
     "data": {
      "text/plain": [
       "(1000,)"
      ]
     },
     "execution_count": 3,
     "metadata": {},
     "output_type": "execute_result"
    }
   ],
   "source": [
    "# Função de criação de variável com dados em uma distribuição normal \n",
    "# deve ter 1000 elementos\n",
    "\n",
    "\n",
    "dados = norm.rvs(size = 1000)\n",
    "dados.shape"
   ]
  },
  {
   "cell_type": "code",
   "execution_count": 4,
   "id": "1dd8679e-6405-4432-a24d-8872c83df4da",
   "metadata": {},
   "outputs": [
    {
     "data": {
      "text/plain": [
       "Text(0.5, 1.0, 'Dados')"
      ]
     },
     "execution_count": 4,
     "metadata": {},
     "output_type": "execute_result"
    },
    {
     "data": {
      "image/png": "[encoded data removed]",
      "text/plain": [
       "<Figure size 640x480 with 1 Axes>"
      ]
     },
     "metadata": {},
     "output_type": "display_data"
    }
   ],
   "source": [
    "# Histograma - matplotlib\n",
    "# 20 barras\n",
    "\n",
    "\n",
    "plt.hist(dados, bins=20)\n",
    "plt.title('Dados')"
   ]
  },
  {
   "cell_type": "code",
   "execution_count": 7,
   "id": "999c1668-ee7d-4100-9800-6b48de08c371",
   "metadata": {},
   "outputs": [
    {
     "data": {
      "image/png": "[encoded data removed]",
      "text/plain": [
       "<Figure size 640x480 with 1 Axes>"
      ]
     },
     "metadata": {},
     "output_type": "display_data"
    }
   ],
   "source": [
    "# Geração de gráfico de probabilidade\n",
    "# Verificar se a distribuição é normal\n",
    "\n",
    "\n",
    "fig, ax = plt.subplots()\n",
    "stats.probplot(dados, fit=True, plot=ax)\n",
    "plt.show()\n",
    "\n",
    "# Obs: \" plt.subplots() \" -> retorna um par de objetos: uma figura e um eixo. \n",
    "# A figura é o contêiner para o eixo, e o eixo é o objeto onde o gráfico é desenhado. \n",
    "# A vírgula em fig, ax = plt.subplots() é usada para separar os dois objetos e atribuí-los às variáveis fig e ax.\n",
    "\n",
    "# Obs: \" stats.probplot()  \" -> gera um gráfico de probabilidade de dados de amostra contra os quantis de uma distribuição teórica.\n",
    "# 'Além de uma série de parâmetros, falamos sobre aqueles utilizados aqui:'\n",
    "#     1. fit ->  um booleano que determina se um ajuste de regressão linear é calculado para os dados. O valor padrão é True\n",
    "#     2. plot -> um objeto que pode ser usado para plotar o gráfico de probabilidade. O valor padrão é None, \n",
    "#                o que significa que o gráfico não é plotado."
   ]
  },
  {
   "cell_type": "code",
   "execution_count": 8,
   "id": "8446a3cc-1c47-4264-bec7-e794579a8d5b",
   "metadata": {},
   "outputs": [
    {
     "data": {
      "text/plain": [
       "ShapiroResult(statistic=0.9989463686943054, pvalue=0.844269335269928)"
      ]
     },
     "execution_count": 8,
     "metadata": {},
     "output_type": "execute_result"
    }
   ],
   "source": [
    "# Execução de teste de shapiro\n",
    "# Segundo argumento é valor de p , não há como regeitar a hipótese nula\n",
    "\n",
    "\n",
    "stats.shapiro(dados)\n",
    "\n",
    "# OBS: \" teste de shapiro \" -> teste de normalidade, usado para verificar se um conjunto de dados segue uma distribuição normal.\n",
    "# calcula um valor chamado estatística de teste, que é uma medida da distância entre os dados e a distribuição normal.\n",
    "# A hipótese nula do teste de Shapiro-Wilk é que os dados seguem uma distribuição normal.\n",
    "# Se o valor de p do teste for menor que o nível de significância escolhido, a hipótese nula é rejeitada e há evidências de que os dados não seguem uma distribuição normal\n"
   ]
  },
  {
   "cell_type": "code",
   "execution_count": 16,
   "id": "44afc874-1e95-4bcc-a6d4-44f4b7ca5317",
   "metadata": {},
   "outputs": [
    {
     "data": {
      "text/plain": [
       "(1000,)"
      ]
     },
     "execution_count": 16,
     "metadata": {},
     "output_type": "execute_result"
    }
   ],
   "source": [
    "# Dados não normais\n",
    "\n",
    "\n",
    "dados2 = skewnorm.rvs(4, size=1000)\n",
    "dados2.shape\n",
    "\n",
    "# Obs: \"  Parâmetro de assimetria \" -> O 4 é o parâmetro de assimetria da distribuição assimétrica normal. \n",
    "# O parâmetro de assimetria controla o grau de assimetria da distribuição, \n",
    "# com valores positivos resultando em uma distribuição mais à direita \n",
    "# e valores negativos resultando em uma distribuição mais à esquerda."
   ]
  },
  {
   "cell_type": "code",
   "execution_count": 17,
   "id": "954c4f99-a4a5-4e7c-a551-70e7c9ad0f95",
   "metadata": {},
   "outputs": [
    {
     "data": {
      "text/plain": [
       "Text(0.5, 1.0, 'Não normais')"
      ]
     },
     "execution_count": 17,
     "metadata": {},
     "output_type": "execute_result"
    },
    {
     "data": {
      "image/png": "[encoded data removed]",
      "text/plain": [
       "<Figure size 640x480 with 1 Axes>"
      ]
     },
     "metadata": {},
     "output_type": "display_data"
    }
   ],
   "source": [
    "# Histograma\n",
    "\n",
    "\n",
    "plt.hist(dados2, bins=10)\n",
    "plt.title('Não normais')"
   ]
  },
  {
   "cell_type": "code",
   "execution_count": 18,
   "id": "fa2be0d6-16ca-4081-9c28-a54081d5846b",
   "metadata": {},
   "outputs": [
    {
     "data": {
      "image/png": "[encoded data removed]",
      "text/plain": [
       "<Figure size 640x480 with 1 Axes>"
      ]
     },
     "metadata": {},
     "output_type": "display_data"
    }
   ],
   "source": [
    "# Geração de linha para verificar se a destriubição é normal\n",
    "\n",
    "\n",
    "fig, ax = plt.subplots()\n",
    "stats.probplot(dados2, fit=True, plot=ax)\n",
    "plt.show()"
   ]
  },
  {
   "cell_type": "code",
   "execution_count": 19,
   "id": "ae324a6d-21cc-4623-8530-9bbfdea123da",
   "metadata": {},
   "outputs": [
    {
     "data": {
      "text/plain": [
       "ShapiroResult(statistic=0.9561214447021484, pvalue=9.93143748375503e-17)"
      ]
     },
     "execution_count": 19,
     "metadata": {},
     "output_type": "execute_result"
    }
   ],
   "source": [
    "# Teste de shapiro\n",
    "\n",
    "\n",
    "stats.shapiro(dados2)"
   ]
  },
  {
   "cell_type": "code",
   "execution_count": 1,
   "id": "aac4f9b0-4580-4112-8307-5578cdd0bb65",
   "metadata": {},
   "outputs": [],
   "source": [
    "# DISTRIBUIÇÃO T DE STUDENT p5\n",
    "\n",
    "# Utilizada quando a amostra é pequena (menor que 30)\n",
    "# Não se conhece o desvio padrão da população\n",
    "# Ela é simétrica em torno da média.\n",
    "# Ela tem uma forma mais \"achatada\" nas pontas do que a distribuição normal.\n",
    "# A forma da distribuição T de Student depende do número de graus de liberdade.\n",
    "# Os graus de liberdade são o número de observações em uma amostra menos o número de parâmetros que são estimados a partir da amostra.\n",
    "# Graus de liberdade corresponde ao tamanho da amostra menos um (n - 1)\n",
    "\n",
    "# Para usar a distribuição T em Python, você pode usar o módulo scipy.stats, que oferece várias funções relacionadas à distribuição T:\n",
    "\n",
    "#     t.rvs(df, size): gera valores aleatórios da distribuição T com um dado graus de liberdade e tamanho da amostra.\n",
    "#     t.pdf(x, df): calcula a função densidade de probabilidade da distribuição T em um ponto x com um dado graus de liberdade.\n",
    "#     t.cdf(x, df): calcula a função cumulativa de probabilidade da distribuição T em um ponto x com um dado graus de liberdade.\n",
    "#     t.ppf(q, df): calcula o inverso da função cumulativa de probabilidade da distribuição T em uma probabilidade q com um dado graus de liberdade.\n",
    "#     t.sf(x, df): calcula a função sobrevivência da distribuição T em um ponto x com um dado graus de liberdade. A função sobrevivência é o complemento da função cumulativa, ou seja, 1 - cdf(x).\n",
    "#     t.isf(q, df): calcula o inverso da função sobrevivência da distribuição T em uma probabilidade q com um dado graus de liberdade\n"
   ]
  },
  {
   "cell_type": "code",
   "execution_count": 24,
   "id": "fb9d98af-7290-4a43-ba91-460fdd2c4264",
   "metadata": {},
   "outputs": [
    {
     "name": "stdout",
     "output_type": "stream",
     "text": [
      "1.5\n"
     ]
    }
   ],
   "source": [
    "# Problema: \n",
    "\n",
    "# A média do salário dos cientistas de dados é igual R$ 75,00 por hora\n",
    "# Amostra com 9 funcionários e desvio padrão = 10\n",
    "\n",
    "# Qual a probabilidade de selecionar um cientista de dados\n",
    "\n",
    "# E o salário ser menor que R$ 80,00 por hora\n",
    "\n",
    "                        \n",
    "# Descobrindo o valor de t para posterior aplicação\n",
    "\n",
    "\n",
    "x = 80\n",
    "m = 75\n",
    "s = 10\n",
    "n = 9\n",
    "\n",
    "\n",
    "t = (x - m) / (s / np.sqrt(n))\n",
    "print(t)\n",
    "\n",
    "\n",
    "# Tal que:\n",
    "\n",
    "# x -> é a média da amostra\n",
    "# m -> é a média da população\n",
    "# s -> é o desvio padrão da amostra\n",
    "# n -> é o tamanho da amostra\n",
    "\n",
    "# Obs: - Sobre T -\n",
    "# O valor de t é uma medida de quanto a média da amostra difere da média da população. \n",
    "# Quanto maior o valor de t, mais provável é que a média da amostra seja significativamente diferente da média da população."
   ]
  },
  {
   "cell_type": "code",
   "execution_count": 3,
   "id": "102d0bde-e075-49df-9078-063ae55c1091",
   "metadata": {},
   "outputs": [
    {
     "data": {
      "text/plain": [
       "0.9139983540240443"
      ]
     },
     "execution_count": 3,
     "metadata": {},
     "output_type": "execute_result"
    }
   ],
   "source": [
    "# Cálculo da probabilidade no problema inicial\n",
    "\n",
    "\n",
    "t.cdf(1.5, 8)\n",
    "\n",
    "# Obs: o 8 corresponde ao grau de liberdade (tamanho da amostra - 9 - menos 1 (n - 1))\n",
    "# Obs: O valor - 1.5 - corresponde à \"Distriuição T\", cuja consultapode ser feita pela tabela de distribuição t,...\n",
    "# ... ou através de cálculo por intermédio de softuware ou não (fórmulas constantes no material de estudo)\n",
    "\n",
    "# função geral:\n",
    "    \n",
    "# scypi.stats.t.cdf(T-value, graus-de-liberdade)"
   ]
  },
  {
   "cell_type": "code",
   "execution_count": 4,
   "id": "b5de7d43-2d75-457d-a8fd-2d705ad8b458",
   "metadata": {},
   "outputs": [
    {
     "data": {
      "text/plain": [
       "0.08600164597595565"
      ]
     },
     "execution_count": 4,
     "metadata": {},
     "output_type": "execute_result"
    }
   ],
   "source": [
    "# Qual a probabilidade do salário ser maior que R$ 80,00\n",
    "\n",
    "\n",
    "t.sf(1.5, 8)"
   ]
  },
  {
   "cell_type": "code",
   "execution_count": 5,
   "id": "d3098077-94eb-4c9c-a33c-f08086f80d39",
   "metadata": {},
   "outputs": [
    {
     "data": {
      "text/plain": [
       "0.9999999999999999"
      ]
     },
     "execution_count": 5,
     "metadata": {},
     "output_type": "execute_result"
    }
   ],
   "source": [
    "# Somatório da execução dos dois códigos acima:\n",
    "\n",
    "\n",
    "t.cdf(1.5, 8) + t.sf(1.5, 8)"
   ]
  },
  {
   "cell_type": "code",
   "execution_count": 6,
   "id": "dbeb7a7b-1aa2-4f2d-8c26-b7419caf5967",
   "metadata": {},
   "outputs": [],
   "source": [
    "# DISTRIBUIÇÃO DE POISSON p5\n",
    "\n",
    "# A distribuição de Poisson é uma distribuição de probabilidade.\n",
    "# É usada para modelar o número de eventos que ocorrem em um intervalo de tempo ou espaço fixo, \n",
    "# quando cada evento ocorre de forma independente e a probabilidade de cada evento ocorrer é constante.\n",
    "\n",
    "# Função Geral:\n",
    "    \n",
    "#     scipy.stats.poisson.-formula-(-Evento_Desejado-, Media_Proposta)\n",
    "\n",
    "# formula:\n",
    "#     sf -> Maior que\n",
    "#     cdf -> Menor ou igual a\n",
    "#     pmf -> Medida equivalente específica"
   ]
  },
  {
   "cell_type": "code",
   "execution_count": 1,
   "id": "6e4a1730-bddd-4ba9-9ac3-e63dfad303fa",
   "metadata": {},
   "outputs": [],
   "source": [
    "# Importação da biblioteca\n",
    "\n",
    "from scipy.stats import poisson\n",
    "import numpy as np"
   ]
  },
  {
   "cell_type": "code",
   "execution_count": 8,
   "id": "943c73b4-3447-4b87-9b2c-afdf08c1a3a9",
   "metadata": {},
   "outputs": [],
   "source": [
    "# Problema:\n",
    "\n",
    "# A média de acidentes de carro é 2 por dia"
   ]
  },
  {
   "cell_type": "code",
   "execution_count": 10,
   "id": "003c7622-3ce0-481d-a98b-17214c919ba1",
   "metadata": {},
   "outputs": [
    {
     "data": {
      "text/plain": [
       "0.18044704431548356"
      ]
     },
     "execution_count": 10,
     "metadata": {},
     "output_type": "execute_result"
    }
   ],
   "source": [
    "# Qual a probabilidade de ocorrerem 3 acidentes no dia? \n",
    "\n",
    "\n",
    "poisson.pmf(3, 2)"
   ]
  },
  {
   "cell_type": "code",
   "execution_count": 11,
   "id": "f79f9076-99a7-4daa-a2cf-07e2549c020d",
   "metadata": {},
   "outputs": [
    {
     "data": {
      "text/plain": [
       "0.857123460498547"
      ]
     },
     "execution_count": 11,
     "metadata": {},
     "output_type": "execute_result"
    }
   ],
   "source": [
    "# Qual a probabilidade de ocorrerem 3 ou menos acidentes no dia?\n",
    "\n",
    "\n",
    "poisson.cdf(3, 2)"
   ]
  },
  {
   "cell_type": "code",
   "execution_count": 13,
   "id": "6ae7c0de-3693-4bad-b42c-b61a2e402887",
   "metadata": {},
   "outputs": [
    {
     "data": {
      "text/plain": [
       "0.14287653950145296"
      ]
     },
     "execution_count": 13,
     "metadata": {},
     "output_type": "execute_result"
    }
   ],
   "source": [
    "# Qual a probabilidade de ocorrerem mais de 3 acidentes no dia?\n",
    "\n",
    "\n",
    "poisson.sf(3, 2)"
   ]
  },
  {
   "cell_type": "code",
   "execution_count": 14,
   "id": "30f0c3f4-0522-4beb-9073-8c5d538f7109",
   "metadata": {},
   "outputs": [
    {
     "data": {
      "text/plain": [
       "1.0"
      ]
     },
     "execution_count": 14,
     "metadata": {},
     "output_type": "execute_result"
    }
   ],
   "source": [
    "# Somatório \n",
    "\n",
    "\n",
    "poisson.cdf(3, 2) + poisson.sf(3, 2)"
   ]
  },
  {
   "cell_type": "code",
   "execution_count": null,
   "id": "16392d3b-8719-4ca1-8784-f9ebca9e8f60",
   "metadata": {},
   "outputs": [],
   "source": [
    "# Problema 2\n",
    "\n",
    "# 1. A média de roubos de carro na minha cidade é de 5 por mês\n",
    "# 2. A média de assassinatos é de 3 por mês \n",
    "# 3. A média de estrupos é de 2 por mês\n",
    "\n",
    "# Q. Qual a Probabilidade de que ocorram 3 roubos de carro, 5 assassinatos ou menos, e mais de 3 estupros, em um mês?"
   ]
  },
  {
   "cell_type": "code",
   "execution_count": 4,
   "id": "babe98db-261a-46be-846c-f1933f2b52ed",
   "metadata": {},
   "outputs": [
    {
     "data": {
      "text/plain": [
       "0.1403738958142805"
      ]
     },
     "execution_count": 4,
     "metadata": {},
     "output_type": "execute_result"
    }
   ],
   "source": [
    "roubos = poisson.pmf(3, 5)\n",
    "roubos"
   ]
  },
  {
   "cell_type": "code",
   "execution_count": 6,
   "id": "72fea556-d1f8-47af-bc41-719a0b4b1d75",
   "metadata": {},
   "outputs": [
    {
     "data": {
      "text/plain": [
       "0.9160820579686966"
      ]
     },
     "execution_count": 6,
     "metadata": {},
     "output_type": "execute_result"
    }
   ],
   "source": [
    "assassinatos = poisson.cdf(5, 3)\n",
    "assassinatos"
   ]
  },
  {
   "cell_type": "code",
   "execution_count": 7,
   "id": "cd2af886-6590-4579-a3e7-07adc69aa354",
   "metadata": {},
   "outputs": [
    {
     "data": {
      "text/plain": [
       "0.01656360848061443"
      ]
     },
     "execution_count": 7,
     "metadata": {},
     "output_type": "execute_result"
    }
   ],
   "source": [
    "estupros = poisson.sf(5, 2)\n",
    "estupros"
   ]
  },
  {
   "cell_type": "code",
   "execution_count": 9,
   "id": "d14c5567-d25d-4663-9976-5e2ab4afcd5a",
   "metadata": {},
   "outputs": [
    {
     "data": {
      "text/plain": [
       "0.0021299807909078445"
      ]
     },
     "execution_count": 9,
     "metadata": {},
     "output_type": "execute_result"
    }
   ],
   "source": [
    "probabilidade = roubos * assassinatos * estupros\n",
    "probabilidade"
   ]
  },
  {
   "cell_type": "code",
   "execution_count": 2,
   "id": "8e4e27f7-487e-4269-83b0-850b7ab2776f",
   "metadata": {},
   "outputs": [],
   "source": [
    "# DISTRIBUIÇÃO BINOMIAL p6"
   ]
  },
  {
   "cell_type": "code",
   "execution_count": 3,
   "id": "0ff448f7-8ec2-4a7c-b00d-6ef6f004655b",
   "metadata": {},
   "outputs": [],
   "source": [
    "# Importação da função binom\n",
    "\n",
    "from scipy.stats import binom"
   ]
  },
  {
   "cell_type": "code",
   "execution_count": 4,
   "id": "b54f741c-106f-4911-b0bb-0e849856c5b3",
   "metadata": {},
   "outputs": [],
   "source": [
    "# A distribuição binomial é uma distribuição de probabilidade, \n",
    "# descreve a probabilidade de obter um certo número de sucessos em uma série de ensaios independentes. \n",
    "# Cada ensaio tem apenas dois resultados possíveis, chamados de sucesso e fracasso. \n",
    "# A distribuição binomial é definida por quatro parâmetros:\n",
    "\n",
    "# N: o número total de ensaios (experimentos).\n",
    "# p: a probabilidade de sucesso em cada ensaio (probabilidade).\n",
    "# q: a probabilidade de fracasso em cada ensaio (q = 1 - p).\n",
    "# k: o número de sucessos que você está interessado em observar (eventos).\n",
    "\n",
    "# A função de probabilidade binomial é dada por:\n",
    "\n",
    "# P(k sucessos em n ensaios) = (n! / k! (n - k)!) * p^k * q^(n - k)\n",
    "\n",
    "# Em python:\n",
    "# A função se organiza em:  binom.pmf(evento, experimentos, probabilidade)    "
   ]
  },
  {
   "cell_type": "code",
   "execution_count": 5,
   "id": "adc30f98-0245-4cbe-94e9-858fac34b5ea",
   "metadata": {},
   "outputs": [
    {
     "data": {
      "text/plain": [
       "0.31249999999999983"
      ]
     },
     "execution_count": 5,
     "metadata": {},
     "output_type": "execute_result"
    }
   ],
   "source": [
    "# Problema:\n",
    "# Jogar uma moeda 5 vezes\n",
    "# Probabilidade de dar cara 3 vezes?\n",
    "\n",
    "\n",
    "prob = binom.pmf(3, 5, 0.5)\n",
    "prob\n",
    "\n",
    "# Bizu: Evento -> Experimento -> Probabilidade (EvExPro)\n",
    "\n",
    "#       Evento -> Qual a chance de se obter um resultado (evento) X vezes\n",
    "#       Experimento -> Realizando uma mesma operação (Experimento) Y vezes\n",
    "#       Probabilidade -> Sendo que a chance de obter o evento desejado a cada experimentação é de Z% (probabilidade)  "
   ]
  },
  {
   "cell_type": "code",
   "execution_count": 13,
   "id": "62a135fb-3311-436f-b123-a77f541becf6",
   "metadata": {},
   "outputs": [
    {
     "name": "stdout",
     "output_type": "stream",
     "text": [
      "Zero vezes -> 0.31640625.\n",
      "Uma vez -> 0.4218750000000001.\n",
      "Duas vezes -> 0.21093750000000006.\n",
      "Tres vezes -> 0.046875000000000014.\n",
      "Quatro vezes -> 0.00390625.\n",
      "Soma -> 1.0000000000000002.\n"
     ]
    }
   ],
   "source": [
    "# Passar por 4 sinais de 4 tempos (encruzilhada com quatro sinais)\n",
    "# Probabilidade de pegar sinal verde em:\n",
    "#     0, 1, 2, 3 ou 4 vezes seguidas:\n",
    "\n",
    "\n",
    "zero = binom.pmf(0, 4, 0.25)\n",
    "print('Zero vezes -> {}.'.format(zero))\n",
    "\n",
    "uma = binom.pmf(1, 4, 0.25)\n",
    "print('Uma vez -> {}.'.format(uma))\n",
    "\n",
    "duas = binom.pmf(2, 4, 0.25)\n",
    "print('Duas vezes -> {}.'.format(duas))\n",
    "\n",
    "tres = binom.pmf(3, 4, 0.25)\n",
    "print('Tres vezes -> {}.'.format(tres))\n",
    "\n",
    "quatro = binom.pmf(4, 4, 0.25)\n",
    "print('Quatro vezes -> {}.'.format(quatro))\n",
    "\n",
    "soma = (zero + uma + duas + tres + quatro)\n",
    "print('Soma -> {}.'.format(soma)) \n",
    " "
   ]
  },
  {
   "cell_type": "code",
   "execution_count": 14,
   "id": "2bb781c6-d4ba-4ac1-b626-f69286ace54d",
   "metadata": {},
   "outputs": [
    {
     "data": {
      "text/plain": [
       "0.0625"
      ]
     },
     "execution_count": 14,
     "metadata": {},
     "output_type": "execute_result"
    }
   ],
   "source": [
    "# E se todos os sinais fossem de 2 tempos?\n",
    "# Chance de encontrar todos os sianis verdes\n",
    "\n",
    "\n",
    "binom.pmf(4, 4, 0.5)"
   ]
  },
  {
   "cell_type": "code",
   "execution_count": 16,
   "id": "3df2b190-11e3-4c7d-8185-5e044256bac9",
   "metadata": {},
   "outputs": [
    {
     "name": "stdout",
     "output_type": "stream",
     "text": [
      "total -> 1.0.\n",
      "Até 3 -> 0.9375.\n"
     ]
    }
   ],
   "source": [
    "# Probabilidade acumulativa - mesmo problema\n",
    "\n",
    "\n",
    "total = binom.cdf(4, 4, 0.5)\n",
    "print('total -> {}.'.format(total))\n",
    "\n",
    "# Obs: Este recurso provoca a acumulação de todas as possibilidades até as quatro luzes acesas;\n",
    "# Ou seja, a probabilidade de nenhuma estar acesa, de uma estar, de duas estarem ...\n",
    "# a soma do problema acima engloba todas as possibilidades, então resultará em 1 necessariamente\n",
    "\n",
    "# Veja um exemplo com a hipótese de até 3 faróis acesos:   \n",
    " \n",
    "ate3 = binom.cdf(3, 4, 0.5)\n",
    "print('Até 3 -> {}.'.format(ate3))"
   ]
  },
  {
   "cell_type": "code",
   "execution_count": 20,
   "id": "06929a33-1dc2-484a-b96b-6dbab1d86a28",
   "metadata": {},
   "outputs": [
    {
     "data": {
      "text/plain": [
       "0.011471271514892587"
      ]
     },
     "execution_count": 20,
     "metadata": {},
     "output_type": "execute_result"
    }
   ],
   "source": [
    "# Concurso com 12 questões\n",
    "# probabilidade de acertar 7\n",
    "# Considere cada questão com 4 opções\n",
    "\n",
    "\n",
    "binom.pmf(7, 12, 0.25)"
   ]
  },
  {
   "cell_type": "code",
   "execution_count": 18,
   "id": "4abb14b8-72d9-4052-8211-991a3b7dae7e",
   "metadata": {},
   "outputs": [
    {
     "data": {
      "text/plain": [
       "5.960464477539063e-08"
      ]
     },
     "execution_count": 18,
     "metadata": {},
     "output_type": "execute_result"
    }
   ],
   "source": [
    "# Mesmo problema\n",
    "# Probabilidade de acertar todas as questões:\n",
    "\n",
    "\n",
    "binom.pmf(12, 12, 0.25)"
   ]
  },
  {
   "cell_type": "code",
   "execution_count": null,
   "id": "17e1ccd6-d789-4ef4-b799-92515684d6e9",
   "metadata": {},
   "outputs": [],
   "source": [
    "# QUI-QUADRADO p7"
   ]
  },
  {
   "cell_type": "code",
   "execution_count": 1,
   "id": "3e5a6a73-3468-4019-90dd-8e3337efd06c",
   "metadata": {},
   "outputs": [],
   "source": [
    "# O qui-quadrado é um teste de estatística descritiva\n",
    "# é usado para testar a hipótese de que duas variáveis são independentes. \n",
    "# Ele é baseado na distribuição qui-quadrado, \n",
    "# que é uma distribuição de probabilidade que descreve:\n",
    "# a probabilidade de obter um certo número de quadrados perfeitos,\n",
    "# quando dois conjuntos de dados são somados.\n",
    "\n",
    "# O teste qui-quadrado pode ser usado para testar uma variedade de hipóteses, incluindo:\n",
    "\n",
    "# As frequências observadas de duas variáveis são iguais às frequências esperadas.\n",
    "# As médias de duas variáveis são iguais.\n",
    "# As variâncias de duas variáveis são iguais."
   ]
  },
  {
   "cell_type": "code",
   "execution_count": 2,
   "id": "57de4f7d-ecc5-4945-9622-58d8b536af28",
   "metadata": {},
   "outputs": [],
   "source": [
    "# Importação das bibliotecas\n",
    "\n",
    "import numpy as np\n",
    "from scipy.stats import chi2_contingency"
   ]
  },
  {
   "cell_type": "code",
   "execution_count": 7,
   "id": "abd995cd-c5ff-4f59-876c-6eeb1b3f5e02",
   "metadata": {},
   "outputs": [
    {
     "data": {
      "text/plain": [
       "array([[19,  6],\n",
       "       [43, 32]])"
      ]
     },
     "execution_count": 7,
     "metadata": {},
     "output_type": "execute_result"
    }
   ],
   "source": [
    "# Criação da matriz com dados idênticos aos da aula:\n",
    "\n",
    "\n",
    "novela = np.array([[19, 6], [43, 32]])\n",
    "novela"
   ]
  },
  {
   "cell_type": "code",
   "execution_count": 4,
   "id": "f9c70e62-cda5-42c4-b104-9c58ea9ac006",
   "metadata": {},
   "outputs": [
    {
     "data": {
      "text/plain": [
       "Chi2ContingencyResult(statistic=2.037351443123939, pvalue=0.15347667161786666, dof=1, expected_freq=array([[15.5,  9.5],\n",
       "       [46.5, 28.5]]))"
      ]
     },
     "execution_count": 4,
     "metadata": {},
     "output_type": "execute_result"
    }
   ],
   "source": [
    "# Encontrando valor de p, com aplicação da função Qui-quadrado - python\n",
    "\n",
    "\n",
    "scipy.stats.chi2_contingency(novela)"
   ]
  },
  {
   "cell_type": "code",
   "execution_count": 6,
   "id": "057fd5f9-8ac2-4157-bb9e-613842db1312",
   "metadata": {},
   "outputs": [
    {
     "data": {
      "text/plain": [
       "array([[22,  3],\n",
       "       [43, 32]])"
      ]
     },
     "execution_count": 6,
     "metadata": {},
     "output_type": "execute_result"
    }
   ],
   "source": [
    "# alterando os valores do array para encontrar um p menor que 0,05\n",
    "\n",
    "novela2 = np.array([[22, 3],[43, 32]])\n",
    "novela"
   ]
  },
  {
   "cell_type": "code",
   "execution_count": 8,
   "id": "08c4e5a0-6258-421a-b2ea-f708d2e9f49a",
   "metadata": {},
   "outputs": [
    {
     "data": {
      "text/plain": [
       "Chi2ContingencyResult(statistic=6.461538461538461, pvalue=0.011023416388221425, dof=1, expected_freq=array([[16.25,  8.75],\n",
       "       [48.75, 26.25]]))"
      ]
     },
     "execution_count": 8,
     "metadata": {},
     "output_type": "execute_result"
    }
   ],
   "source": [
    "# Aplicando a função Qui quadrado mais uma vez:\n",
    "\n",
    "chi2_contingency(novela2)"
   ]
  },
  {
   "cell_type": "code",
   "execution_count": 1,
   "id": "1fcaffb5-303c-4328-b7f8-518f1312a2d5",
   "metadata": {},
   "outputs": [],
   "source": [
    "# ANOVA, p8\n",
    "\n",
    "# Análise de Variância\n",
    "# Teste de Hipóte\n",
    "# Usada para comparar 3 ou mais grupos\n",
    "# Uma variável quantitativa e uma ou mais variáveis categóricas\n",
    "# Em vez de comparações em pares de grupos, \"olha\" todo o conjunto\n",
    "# Busca a variação entre os grupos comparando a variação \"dentro\" dos grupos\n",
    "# O modelo de regressão linear é um método estatístico que permite prever o valor de uma variável dependente (Y) ...\n",
    "# ...com base nos valores de uma ou mais variáveis independentes (X). \n",
    "# O modelo faz isso calculando a linha reta que melhor se ajusta aos dados"
   ]
  },
  {
   "cell_type": "code",
   "execution_count": 1,
   "id": "20dace78-0ecc-4c0f-bc8c-ecd320926674",
   "metadata": {},
   "outputs": [],
   "source": [
    "# Importação de bibliotecas\n",
    "\n",
    "import pandas as pd\n",
    "from scipy import stats\n",
    "import statsmodels.api as sm\n",
    "from statsmodels.formula.api import ols\n",
    "from statsmodels.stats.multicomp import MultiComparison\n",
    "\n",
    "# statsmodels -> fornece uma variedade de recursos para modelar dados usando regressão linear, ...\n",
    "# ...incluindo a capacidade de ajustar modelos, avaliar modelos e gerar previsões.\n",
    "\n",
    "# ols -> "
   ]
  },
  {
   "cell_type": "code",
   "execution_count": 3,
   "id": "121e704d-178c-4716-8e7b-30b95e98bfb0",
   "metadata": {},
   "outputs": [
    {
     "data": {
      "text/html": [
       "<div>\n",
       "<style scoped>\n",
       "    .dataframe tbody tr th:only-of-type {\n",
       "        vertical-align: middle;\n",
       "    }\n",
       "\n",
       "    .dataframe tbody tr th {\n",
       "        vertical-align: top;\n",
       "    }\n",
       "\n",
       "    .dataframe thead th {\n",
       "        text-align: right;\n",
       "    }\n",
       "</style>\n",
       "<table border=\"1\" class=\"dataframe\">\n",
       "  <thead>\n",
       "    <tr style=\"text-align: right;\">\n",
       "      <th></th>\n",
       "      <th>Sexo</th>\n",
       "      <th>Remedio</th>\n",
       "      <th>Horas</th>\n",
       "    </tr>\n",
       "  </thead>\n",
       "  <tbody>\n",
       "    <tr>\n",
       "      <th>0</th>\n",
       "      <td>F</td>\n",
       "      <td>A</td>\n",
       "      <td>5</td>\n",
       "    </tr>\n",
       "    <tr>\n",
       "      <th>1</th>\n",
       "      <td>F</td>\n",
       "      <td>A</td>\n",
       "      <td>10</td>\n",
       "    </tr>\n",
       "    <tr>\n",
       "      <th>2</th>\n",
       "      <td>F</td>\n",
       "      <td>A</td>\n",
       "      <td>7</td>\n",
       "    </tr>\n",
       "    <tr>\n",
       "      <th>3</th>\n",
       "      <td>F</td>\n",
       "      <td>A</td>\n",
       "      <td>7</td>\n",
       "    </tr>\n",
       "    <tr>\n",
       "      <th>4</th>\n",
       "      <td>M</td>\n",
       "      <td>A</td>\n",
       "      <td>7</td>\n",
       "    </tr>\n",
       "  </tbody>\n",
       "</table>\n",
       "</div>"
      ],
      "text/plain": [
       "  Sexo Remedio  Horas\n",
       "0    F       A      5\n",
       "1    F       A     10\n",
       "2    F       A      7\n",
       "3    F       A      7\n",
       "4    M       A      7"
      ]
     },
     "execution_count": 3,
     "metadata": {},
     "output_type": "execute_result"
    }
   ],
   "source": [
    "# Carregamento da base de dados\n",
    "\n",
    "tratamento = pd.read_csv('anova.csv', sep=';')\n",
    "tratamento.head()"
   ]
  },
  {
   "cell_type": "code",
   "execution_count": 11,
   "id": "2cc291f3-bab4-444f-a16f-1f0184424ffd",
   "metadata": {},
   "outputs": [
    {
     "data": {
      "text/plain": [
       "(24, 3)"
      ]
     },
     "execution_count": 11,
     "metadata": {},
     "output_type": "execute_result"
    }
   ],
   "source": [
    "tratamento.shape"
   ]
  },
  {
   "cell_type": "code",
   "execution_count": 8,
   "id": "f3aa5048-f9c2-449d-89f1-11c75782d03d",
   "metadata": {},
   "outputs": [],
   "source": [
    "a = tratamento.iloc[:, 0].values\n",
    "b = tratamento.iloc[:, 1].values\n",
    "c = tratamento.iloc[:, 2].values"
   ]
  },
  {
   "cell_type": "code",
   "execution_count": 10,
   "id": "eb093ac1-080e-45bc-9050-a63dab0c1ca8",
   "metadata": {},
   "outputs": [
    {
     "name": "stdout",
     "output_type": "stream",
     "text": [
      "['M', 'F']\n",
      "['B', 'A', 'C']\n",
      "[5, 6, 7, 8, 9, 10]\n"
     ]
    }
   ],
   "source": [
    "print(list(set(a)))\n",
    "print(list(set(b)))\n",
    "print(list(set(c)))"
   ]
  },
  {
   "cell_type": "code",
   "execution_count": 20,
   "id": "44e3cfa9-e5fe-4f45-ab07-9d15aa7930ce",
   "metadata": {},
   "outputs": [
    {
     "data": {
      "text/plain": [
       "<Axes: title={'center': 'Horas'}, xlabel='[Remedio]'>"
      ]
     },
     "execution_count": 20,
     "metadata": {},
     "output_type": "execute_result"
    },
    {
     "data": {
      "image/png": "[encoded data removed]",
      "text/plain": [
       "<Figure size 640x480 with 1 Axes>"
      ]
     },
     "metadata": {},
     "output_type": "display_data"
    }
   ],
   "source": [
    "# Boxplot agrupando os dados pelo remédio\n",
    "\n",
    "\n",
    "tratamento.boxplot(by='Remedio', grid=False)\n",
    "\n",
    "# O parâmetro **grid** na função tratamento.boxplot(by=‘Remedio’, grid=False) serve para controlar se o gráfico terá ou não uma grade de linhas horizontais e verticais \n",
    "# que facilitam a visualização dos dados. Se o valor for True, a grade será mostrada. Se o valor for False, a grade será oculta. No caso da função acima, \n",
    "# o valor é False, então o gráfico não terá a grade."
   ]
  },
  {
   "cell_type": "code",
   "execution_count": 3,
   "id": "ef3d0cb0-848a-433a-947f-408a31eb0d9d",
   "metadata": {},
   "outputs": [
    {
     "data": {
      "text/html": [
       "<div>\n",
       "<style scoped>\n",
       "    .dataframe tbody tr th:only-of-type {\n",
       "        vertical-align: middle;\n",
       "    }\n",
       "\n",
       "    .dataframe tbody tr th {\n",
       "        vertical-align: top;\n",
       "    }\n",
       "\n",
       "    .dataframe thead th {\n",
       "        text-align: right;\n",
       "    }\n",
       "</style>\n",
       "<table border=\"1\" class=\"dataframe\">\n",
       "  <thead>\n",
       "    <tr style=\"text-align: right;\">\n",
       "      <th></th>\n",
       "      <th>Sexo</th>\n",
       "      <th>Remedio</th>\n",
       "      <th>Horas</th>\n",
       "    </tr>\n",
       "  </thead>\n",
       "  <tbody>\n",
       "    <tr>\n",
       "      <th>0</th>\n",
       "      <td>F</td>\n",
       "      <td>A</td>\n",
       "      <td>5</td>\n",
       "    </tr>\n",
       "    <tr>\n",
       "      <th>1</th>\n",
       "      <td>F</td>\n",
       "      <td>A</td>\n",
       "      <td>10</td>\n",
       "    </tr>\n",
       "    <tr>\n",
       "      <th>2</th>\n",
       "      <td>F</td>\n",
       "      <td>A</td>\n",
       "      <td>7</td>\n",
       "    </tr>\n",
       "    <tr>\n",
       "      <th>3</th>\n",
       "      <td>F</td>\n",
       "      <td>A</td>\n",
       "      <td>7</td>\n",
       "    </tr>\n",
       "    <tr>\n",
       "      <th>4</th>\n",
       "      <td>M</td>\n",
       "      <td>A</td>\n",
       "      <td>7</td>\n",
       "    </tr>\n",
       "  </tbody>\n",
       "</table>\n",
       "</div>"
      ],
      "text/plain": [
       "  Sexo Remedio  Horas\n",
       "0    F       A      5\n",
       "1    F       A     10\n",
       "2    F       A      7\n",
       "3    F       A      7\n",
       "4    M       A      7"
      ]
     },
     "execution_count": 3,
     "metadata": {},
     "output_type": "execute_result"
    }
   ],
   "source": [
    "tratamento.head()"
   ]
  },
  {
   "cell_type": "code",
   "execution_count": 18,
   "id": "55ea68db-097e-4dda-b120-422a533a47fd",
   "metadata": {},
   "outputs": [
    {
     "data": {
      "text/html": [
       "<div>\n",
       "<style scoped>\n",
       "    .dataframe tbody tr th:only-of-type {\n",
       "        vertical-align: middle;\n",
       "    }\n",
       "\n",
       "    .dataframe tbody tr th {\n",
       "        vertical-align: top;\n",
       "    }\n",
       "\n",
       "    .dataframe thead th {\n",
       "        text-align: right;\n",
       "    }\n",
       "</style>\n",
       "<table border=\"1\" class=\"dataframe\">\n",
       "  <thead>\n",
       "    <tr style=\"text-align: right;\">\n",
       "      <th></th>\n",
       "      <th>df</th>\n",
       "      <th>sum_sq</th>\n",
       "      <th>mean_sq</th>\n",
       "      <th>F</th>\n",
       "      <th>PR(&gt;F)</th>\n",
       "    </tr>\n",
       "  </thead>\n",
       "  <tbody>\n",
       "    <tr>\n",
       "      <th>Remedio</th>\n",
       "      <td>2.0</td>\n",
       "      <td>4.083333</td>\n",
       "      <td>2.041667</td>\n",
       "      <td>0.537618</td>\n",
       "      <td>0.591966</td>\n",
       "    </tr>\n",
       "    <tr>\n",
       "      <th>Residual</th>\n",
       "      <td>21.0</td>\n",
       "      <td>79.750000</td>\n",
       "      <td>3.797619</td>\n",
       "      <td>NaN</td>\n",
       "      <td>NaN</td>\n",
       "    </tr>\n",
       "  </tbody>\n",
       "</table>\n",
       "</div>"
      ],
      "text/plain": [
       "            df     sum_sq   mean_sq         F    PR(>F)\n",
       "Remedio    2.0   4.083333  2.041667  0.537618  0.591966\n",
       "Residual  21.0  79.750000  3.797619       NaN       NaN"
      ]
     },
     "execution_count": 18,
     "metadata": {},
     "output_type": "execute_result"
    }
   ],
   "source": [
    "# Criação de modelo de regressão linear e execução do teste\n",
    "\n",
    "\n",
    "modelo1 = ols('Horas ~ Remedio', data = tratamento).fit()\n",
    "resultados1 = sm.stats.anova_lm(modelo1)\n",
    "resultados1\n",
    "\n",
    "# Depois de criar um modelo de regressão linear...\n",
    "# ...o método fit é usado para ajustar o modelo aos dados. \n",
    "# O método fit retorna um objeto RegressionResults que contém os parâmetros estimados do modelo.\n",
    "\n",
    "# A função **anova_lm()** serve para realizar uma análise de variância (ANOVA) em um ou mais modelos lineares ajustados. \n",
    "# A ANOVA é um método estatístico que permite testar se há diferença significativa entre as médias de uma variável dependente em função de uma ou mais variáveis independentes categóricas. \n",
    "# No contexto abaixo, a função anova_lm() está sendo aplicada ao modelo1, que é um modelo linear que relaciona a variável Horas (tempo de sono) com a variável Remedio (tipo de remédio usado). \n",
    "# A função anova_lm() retorna uma tabela ANOVA com as seguintes colunas:\n",
    "\n",
    "# sum_sq: soma dos quadrados dos termos do modelo\n",
    "# df: graus de liberdade dos termos do modelo\n",
    "# F: valor da estatística F para testar a significância dos termos do modelo\n",
    "# PR(>F): valor p para testar a significância dos termos do modelo\n",
    "\n",
    "# A tabela ANOVA permite verificar se o tipo de remédio tem algum efeito sobre o tempo de sono, comparando o modelo1 com um modelo nulo que não inclui o tipo de remédio como preditor. \n",
    "# Se o valor p for menor que um nível de significância pré-definido (por exemplo, 0,05), então podemos rejeitar a hipótese nula de que o tipo de remédio não tem efeito sobre o tempo de sono \n",
    "# e concluir que há diferença entre as médias de Horas para cada nível de Remedio"
   ]
  },
  {
   "cell_type": "code",
   "execution_count": null,
   "id": "ce994416-79d4-4b88-b5bc-b531d98fba1e",
   "metadata": {},
   "outputs": [],
   "source": [
    "# Obs: Outro exemplo dado pelo Bards:\n",
    "    \n",
    "# import pandas as pd\n",
    "# import statsmodels.formula.api as sm\n",
    "\n",
    "# Load the data\n",
    "# df = pd.read_csv('data.csv')\n",
    "\n",
    "# Define the formula\n",
    "# formula = 'y ~ x1 + x2'\n",
    "\n",
    "# Create the model\n",
    "# model = sm.ols(formula, data=df)\n",
    "\n",
    "# Fit the model\n",
    "# model.fit()\n",
    "\n",
    "# Print the summary of the model\n",
    "# print(model.summary())"
   ]
  },
  {
   "cell_type": "code",
   "execution_count": 4,
   "id": "fd351495-f8eb-46f7-ae87-4028c551d81a",
   "metadata": {},
   "outputs": [
    {
     "data": {
      "text/html": [
       "<div>\n",
       "<style scoped>\n",
       "    .dataframe tbody tr th:only-of-type {\n",
       "        vertical-align: middle;\n",
       "    }\n",
       "\n",
       "    .dataframe tbody tr th {\n",
       "        vertical-align: top;\n",
       "    }\n",
       "\n",
       "    .dataframe thead th {\n",
       "        text-align: right;\n",
       "    }\n",
       "</style>\n",
       "<table border=\"1\" class=\"dataframe\">\n",
       "  <thead>\n",
       "    <tr style=\"text-align: right;\">\n",
       "      <th></th>\n",
       "      <th>Sexo</th>\n",
       "      <th>Remedio</th>\n",
       "      <th>Horas</th>\n",
       "    </tr>\n",
       "  </thead>\n",
       "  <tbody>\n",
       "    <tr>\n",
       "      <th>0</th>\n",
       "      <td>F</td>\n",
       "      <td>A</td>\n",
       "      <td>5</td>\n",
       "    </tr>\n",
       "    <tr>\n",
       "      <th>1</th>\n",
       "      <td>F</td>\n",
       "      <td>A</td>\n",
       "      <td>10</td>\n",
       "    </tr>\n",
       "    <tr>\n",
       "      <th>2</th>\n",
       "      <td>F</td>\n",
       "      <td>A</td>\n",
       "      <td>7</td>\n",
       "    </tr>\n",
       "    <tr>\n",
       "      <th>3</th>\n",
       "      <td>F</td>\n",
       "      <td>A</td>\n",
       "      <td>7</td>\n",
       "    </tr>\n",
       "    <tr>\n",
       "      <th>4</th>\n",
       "      <td>M</td>\n",
       "      <td>A</td>\n",
       "      <td>7</td>\n",
       "    </tr>\n",
       "  </tbody>\n",
       "</table>\n",
       "</div>"
      ],
      "text/plain": [
       "  Sexo Remedio  Horas\n",
       "0    F       A      5\n",
       "1    F       A     10\n",
       "2    F       A      7\n",
       "3    F       A      7\n",
       "4    M       A      7"
      ]
     },
     "execution_count": 4,
     "metadata": {},
     "output_type": "execute_result"
    }
   ],
   "source": [
    "tratamento.head()"
   ]
  },
  {
   "cell_type": "code",
   "execution_count": 16,
   "id": "314c3c65-c05e-4726-b3ef-cfc019740d3a",
   "metadata": {},
   "outputs": [
    {
     "data": {
      "text/html": [
       "<div>\n",
       "<style scoped>\n",
       "    .dataframe tbody tr th:only-of-type {\n",
       "        vertical-align: middle;\n",
       "    }\n",
       "\n",
       "    .dataframe tbody tr th {\n",
       "        vertical-align: top;\n",
       "    }\n",
       "\n",
       "    .dataframe thead th {\n",
       "        text-align: right;\n",
       "    }\n",
       "</style>\n",
       "<table border=\"1\" class=\"dataframe\">\n",
       "  <thead>\n",
       "    <tr style=\"text-align: right;\">\n",
       "      <th></th>\n",
       "      <th>df</th>\n",
       "      <th>sum_sq</th>\n",
       "      <th>mean_sq</th>\n",
       "      <th>F</th>\n",
       "      <th>PR(&gt;F)</th>\n",
       "    </tr>\n",
       "  </thead>\n",
       "  <tbody>\n",
       "    <tr>\n",
       "      <th>Remedio</th>\n",
       "      <td>2.0</td>\n",
       "      <td>4.083333</td>\n",
       "      <td>2.041667</td>\n",
       "      <td>0.532609</td>\n",
       "      <td>0.596042</td>\n",
       "    </tr>\n",
       "    <tr>\n",
       "      <th>Sexo</th>\n",
       "      <td>1.0</td>\n",
       "      <td>4.166667</td>\n",
       "      <td>4.166667</td>\n",
       "      <td>1.086957</td>\n",
       "      <td>0.310948</td>\n",
       "    </tr>\n",
       "    <tr>\n",
       "      <th>Remedio:Sexo</th>\n",
       "      <td>2.0</td>\n",
       "      <td>6.583333</td>\n",
       "      <td>3.291667</td>\n",
       "      <td>0.858696</td>\n",
       "      <td>0.440360</td>\n",
       "    </tr>\n",
       "    <tr>\n",
       "      <th>Residual</th>\n",
       "      <td>18.0</td>\n",
       "      <td>69.000000</td>\n",
       "      <td>3.833333</td>\n",
       "      <td>NaN</td>\n",
       "      <td>NaN</td>\n",
       "    </tr>\n",
       "  </tbody>\n",
       "</table>\n",
       "</div>"
      ],
      "text/plain": [
       "                df     sum_sq   mean_sq         F    PR(>F)\n",
       "Remedio        2.0   4.083333  2.041667  0.532609  0.596042\n",
       "Sexo           1.0   4.166667  4.166667  1.086957  0.310948\n",
       "Remedio:Sexo   2.0   6.583333  3.291667  0.858696  0.440360\n",
       "Residual      18.0  69.000000  3.833333       NaN       NaN"
      ]
     },
     "execution_count": 16,
     "metadata": {},
     "output_type": "execute_result"
    }
   ],
   "source": [
    "# Criação do segundo modelo utilizando mais atributos e execução do teste\n",
    "\n",
    "\n",
    "modelo2 = ols('Horas ~ Remedio * Sexo', data = tratamento).fit()\n",
    "\n",
    "resultados2 = sm.stats.anova_lm(modelo2)\n",
    "resultados2\n",
    "\n",
    "# \"~\" -> O argumento ~ na fórmula é usado para separar a variável dependente das variáveis independentes...\n",
    "# ... O argumento ~ é necessário para que o módulo statsmodels.formula.api possa entender a relação...\n",
    "# ... entre a variável dependente e as variáveis independentes\n",
    "\n",
    "# fit() -> A cláusula fit() ajusta o modelo de regressão linear ...\n",
    "#... ajustando os coeficientes do modelo aos dados. \n",
    "#... Os coeficientes do modelo são os parâmetros do modelo que descrevem a relação \n",
    "# ...entre a variável dependente e as variáveis independentes."
   ]
  },
  {
   "cell_type": "code",
   "execution_count": 5,
   "id": "94172b6d-1e15-44f7-ae42-18b5dd6d6273",
   "metadata": {},
   "outputs": [
    {
     "data": {
      "text/html": [
       "<div>\n",
       "<style scoped>\n",
       "    .dataframe tbody tr th:only-of-type {\n",
       "        vertical-align: middle;\n",
       "    }\n",
       "\n",
       "    .dataframe tbody tr th {\n",
       "        vertical-align: top;\n",
       "    }\n",
       "\n",
       "    .dataframe thead th {\n",
       "        text-align: right;\n",
       "    }\n",
       "</style>\n",
       "<table border=\"1\" class=\"dataframe\">\n",
       "  <thead>\n",
       "    <tr style=\"text-align: right;\">\n",
       "      <th></th>\n",
       "      <th>Sexo</th>\n",
       "      <th>Remedio</th>\n",
       "      <th>Horas</th>\n",
       "    </tr>\n",
       "  </thead>\n",
       "  <tbody>\n",
       "    <tr>\n",
       "      <th>0</th>\n",
       "      <td>F</td>\n",
       "      <td>A</td>\n",
       "      <td>5</td>\n",
       "    </tr>\n",
       "    <tr>\n",
       "      <th>1</th>\n",
       "      <td>F</td>\n",
       "      <td>A</td>\n",
       "      <td>10</td>\n",
       "    </tr>\n",
       "    <tr>\n",
       "      <th>2</th>\n",
       "      <td>F</td>\n",
       "      <td>A</td>\n",
       "      <td>7</td>\n",
       "    </tr>\n",
       "    <tr>\n",
       "      <th>3</th>\n",
       "      <td>F</td>\n",
       "      <td>A</td>\n",
       "      <td>7</td>\n",
       "    </tr>\n",
       "    <tr>\n",
       "      <th>4</th>\n",
       "      <td>M</td>\n",
       "      <td>A</td>\n",
       "      <td>7</td>\n",
       "    </tr>\n",
       "  </tbody>\n",
       "</table>\n",
       "</div>"
      ],
      "text/plain": [
       "  Sexo Remedio  Horas\n",
       "0    F       A      5\n",
       "1    F       A     10\n",
       "2    F       A      7\n",
       "3    F       A      7\n",
       "4    M       A      7"
      ]
     },
     "execution_count": 5,
     "metadata": {},
     "output_type": "execute_result"
    }
   ],
   "source": [
    "tratamento.head()"
   ]
  },
  {
   "cell_type": "code",
   "execution_count": 10,
   "id": "a94e4519-242c-4de4-a730-998b7732f275",
   "metadata": {},
   "outputs": [
    {
     "name": "stdout",
     "output_type": "stream",
     "text": [
      "Multiple Comparison of Means - Tukey HSD, FWER=0.05\n",
      "=================================================\n",
      "group1 group2 meandiff p-adj  lower  upper reject\n",
      "-------------------------------------------------\n",
      "     A      B   -0.625 0.7991 -3.081 1.831  False\n",
      "     A      C    0.375 0.9219 -2.081 2.831  False\n",
      "     B      C      1.0 0.5689 -1.456 3.456  False\n",
      "-------------------------------------------------\n"
     ]
    },
    {
     "data": {
      "image/png": "[encoded data removed]",
      "text/plain": [
       "<Figure size 1000x600 with 1 Axes>"
      ]
     },
     "execution_count": 10,
     "metadata": {},
     "output_type": "execute_result"
    },
    {
     "data": {
      "image/png": "[encoded data removed]",
      "text/plain": [
       "<Figure size 1000x600 with 1 Axes>"
      ]
     },
     "metadata": {},
     "output_type": "display_data"
    }
   ],
   "source": [
    "# Se houver diferença o teste de Tukey é executado\n",
    "# Execução do teste de Tukey e visualização dos gráficos com os resultados\n",
    "\n",
    "\n",
    "mc = MultiComparison(tratamento['Horas'], tratamento['Remedio'])\n",
    "resultado_teste = mc.tukeyhsd()\n",
    "print(resultado_teste)\n",
    "resultado_teste.plot_simultaneous()\n",
    "\n",
    "\n",
    "# O teste de Tukey é um método estatístico que permite comparar as médias de uma variável dependente em função de uma ou mais variáveis independentes categóricas. \n",
    "# é usado quando se realiza uma análise de variância (ANOVA) e se quer saber quais grupos têm médias significativamente diferentes entre si. \n",
    "# se baseia na diferença mínima significativa (DMS), que é o menor valor que a diferença entre duas médias deve ter para ser considerada estatisticamente significativa.\n",
    "# também leva em conta o tamanho da amostra, o quadrado médio dos resíduos e a distribuição da amplitude estudentizada. \n",
    "# pode ser aplicado quando os tamanhos das amostras dos grupos são iguais ou diferentes, sendo chamado de Tukey-Kramer neste último caso"
   ]
  },
  {
   "cell_type": "code",
   "execution_count": null,
   "id": "f7dfc33e-b261-44f3-a9e2-14849b0c5e82",
   "metadata": {},
   "outputs": [],
   "source": []
  }
 ],
 "metadata": {
  "kernelspec": {
   "display_name": "Python 3 (ipykernel)",
   "language": "python",
   "name": "python3"
  },
  "language_info": {
   "codemirror_mode": {
    "name": "ipython",
    "version": 3
   },
   "file_extension": ".py",
   "mimetype": "text/x-python",
   "name": "python",
   "nbconvert_exporter": "python",
   "pygments_lexer": "ipython3",
   "version": "3.10.9"
  }
 },
 "nbformat": 4,
 "nbformat_minor": 5
}
